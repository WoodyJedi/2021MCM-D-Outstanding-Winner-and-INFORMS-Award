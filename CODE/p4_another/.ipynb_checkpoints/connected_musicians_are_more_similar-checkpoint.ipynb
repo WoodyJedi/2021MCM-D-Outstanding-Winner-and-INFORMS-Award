{
 "cells": [
  {
   "cell_type": "code",
   "execution_count": 1,
   "metadata": {},
   "outputs": [],
   "source": [
    "import networkx as nx\n",
    "import pandas as pd\n",
    "import numpy as np\n"
   ]
  },
  {
   "cell_type": "code",
   "execution_count": 2,
   "metadata": {},
   "outputs": [],
   "source": [
    "influence_data = pd.read_csv('influence_data.csv')"
   ]
  },
  {
   "cell_type": "code",
   "execution_count": 6,
   "metadata": {},
   "outputs": [
    {
     "data": {
      "text/html": [
       "<div>\n",
       "<style scoped>\n",
       "    .dataframe tbody tr th:only-of-type {\n",
       "        vertical-align: middle;\n",
       "    }\n",
       "\n",
       "    .dataframe tbody tr th {\n",
       "        vertical-align: top;\n",
       "    }\n",
       "\n",
       "    .dataframe thead th {\n",
       "        text-align: right;\n",
       "    }\n",
       "</style>\n",
       "<table border=\"1\" class=\"dataframe\">\n",
       "  <thead>\n",
       "    <tr style=\"text-align: right;\">\n",
       "      <th></th>\n",
       "      <th>Component_0</th>\n",
       "      <th>Component_1</th>\n",
       "      <th>Component_2</th>\n",
       "    </tr>\n",
       "    <tr>\n",
       "      <th>artist_id</th>\n",
       "      <th></th>\n",
       "      <th></th>\n",
       "      <th></th>\n",
       "    </tr>\n",
       "  </thead>\n",
       "  <tbody>\n",
       "    <tr>\n",
       "      <th>792507</th>\n",
       "      <td>1.150376</td>\n",
       "      <td>0.258632</td>\n",
       "      <td>0.722177</td>\n",
       "    </tr>\n",
       "    <tr>\n",
       "      <th>119107</th>\n",
       "      <td>1.654902</td>\n",
       "      <td>0.660330</td>\n",
       "      <td>3.661171</td>\n",
       "    </tr>\n",
       "    <tr>\n",
       "      <th>816890</th>\n",
       "      <td>0.289474</td>\n",
       "      <td>-0.770976</td>\n",
       "      <td>0.549894</td>\n",
       "    </tr>\n",
       "    <tr>\n",
       "      <th>79016</th>\n",
       "      <td>1.248595</td>\n",
       "      <td>-0.398232</td>\n",
       "      <td>0.267062</td>\n",
       "    </tr>\n",
       "    <tr>\n",
       "      <th>66915</th>\n",
       "      <td>0.214653</td>\n",
       "      <td>-0.151386</td>\n",
       "      <td>0.708397</td>\n",
       "    </tr>\n",
       "    <tr>\n",
       "      <th>...</th>\n",
       "      <td>...</td>\n",
       "      <td>...</td>\n",
       "      <td>...</td>\n",
       "    </tr>\n",
       "    <tr>\n",
       "      <th>3359519</th>\n",
       "      <td>-0.000960</td>\n",
       "      <td>-0.900278</td>\n",
       "      <td>-0.421923</td>\n",
       "    </tr>\n",
       "    <tr>\n",
       "      <th>3381566</th>\n",
       "      <td>-1.528295</td>\n",
       "      <td>0.276644</td>\n",
       "      <td>0.337731</td>\n",
       "    </tr>\n",
       "    <tr>\n",
       "      <th>3410250</th>\n",
       "      <td>0.140056</td>\n",
       "      <td>0.387234</td>\n",
       "      <td>-0.827585</td>\n",
       "    </tr>\n",
       "    <tr>\n",
       "      <th>3455945</th>\n",
       "      <td>-0.449464</td>\n",
       "      <td>1.299648</td>\n",
       "      <td>-0.635367</td>\n",
       "    </tr>\n",
       "    <tr>\n",
       "      <th>3639618</th>\n",
       "      <td>-0.835938</td>\n",
       "      <td>1.024051</td>\n",
       "      <td>-0.569124</td>\n",
       "    </tr>\n",
       "  </tbody>\n",
       "</table>\n",
       "<p>5854 rows × 3 columns</p>\n",
       "</div>"
      ],
      "text/plain": [
       "           Component_0  Component_1  Component_2\n",
       "artist_id                                       \n",
       "792507        1.150376     0.258632     0.722177\n",
       "119107        1.654902     0.660330     3.661171\n",
       "816890        0.289474    -0.770976     0.549894\n",
       "79016         1.248595    -0.398232     0.267062\n",
       "66915         0.214653    -0.151386     0.708397\n",
       "...                ...          ...          ...\n",
       "3359519      -0.000960    -0.900278    -0.421923\n",
       "3381566      -1.528295     0.276644     0.337731\n",
       "3410250       0.140056     0.387234    -0.827585\n",
       "3455945      -0.449464     1.299648    -0.635367\n",
       "3639618      -0.835938     1.024051    -0.569124\n",
       "\n",
       "[5854 rows x 3 columns]"
      ]
     },
     "execution_count": 6,
     "metadata": {},
     "output_type": "execute_result"
    }
   ],
   "source": [
    "Artist_embeddings = pd.read_csv('Artist_embeddings.csv',index_col=0)\n",
    "Artist_embeddings"
   ]
  },
  {
   "cell_type": "code",
   "execution_count": 12,
   "metadata": {},
   "outputs": [
    {
     "ename": "AttributeError",
     "evalue": "'numpy.ndarray' object has no attribute 'columns'",
     "output_type": "error",
     "traceback": [
      "\u001b[0;31m---------------------------------------------------------------------------\u001b[0m",
      "\u001b[0;31mAttributeError\u001b[0m                            Traceback (most recent call last)",
      "\u001b[0;32m<ipython-input-12-cb4f4d94a579>\u001b[0m in \u001b[0;36m<module>\u001b[0;34m\u001b[0m\n\u001b[0;32m----> 1\u001b[0;31m \u001b[0mdata_name\u001b[0m \u001b[0;34m=\u001b[0m \u001b[0mArtist_embeddings\u001b[0m\u001b[0;34m.\u001b[0m\u001b[0mcolumns\u001b[0m\u001b[0;34m[\u001b[0m\u001b[0;34m:\u001b[0m\u001b[0;36m3\u001b[0m\u001b[0;34m]\u001b[0m\u001b[0;34m\u001b[0m\u001b[0;34m\u001b[0m\u001b[0m\n\u001b[0m\u001b[1;32m      2\u001b[0m \u001b[0mdata_name\u001b[0m\u001b[0;34m\u001b[0m\u001b[0;34m\u001b[0m\u001b[0m\n",
      "\u001b[0;31mAttributeError\u001b[0m: 'numpy.ndarray' object has no attribute 'columns'"
     ]
    }
   ],
   "source": [
    "data_name = Artist_embeddings.columns[:3]\n",
    "data_name"
   ]
  },
  {
   "cell_type": "code",
   "execution_count": 13,
   "metadata": {},
   "outputs": [],
   "source": [
    "influencer_0 = []\n",
    "influencer_1 = []\n",
    "influencer_2 = []\n",
    "influencer_data=[influencer_0,influencer_1,influencer_2]"
   ]
  },
  {
   "cell_type": "code",
   "execution_count": 14,
   "metadata": {},
   "outputs": [],
   "source": [
    "follower_0 = []\n",
    "follower_1 = []\n",
    "follower_2 = []\n",
    "follower_data=[follower_0,follower_1,follower_2]"
   ]
  },
  {
   "cell_type": "code",
   "execution_count": 15,
   "metadata": {},
   "outputs": [
    {
     "name": "stdout",
     "output_type": "stream",
     "text": [
      "0.0\n",
      "1.0\n",
      "2.0\n",
      "3.0\n",
      "4.0\n",
      "5.0\n",
      "6.0\n",
      "7.0\n",
      "8.0\n",
      "9.0\n",
      "10.0\n",
      "11.0\n",
      "12.0\n",
      "13.0\n",
      "14.0\n",
      "15.0\n",
      "16.0\n",
      "17.0\n",
      "18.0\n",
      "19.0\n",
      "20.0\n",
      "21.0\n",
      "22.0\n",
      "23.0\n",
      "24.0\n",
      "25.0\n",
      "26.0\n",
      "27.0\n",
      "28.0\n",
      "29.0\n",
      "30.0\n",
      "31.0\n",
      "32.0\n",
      "33.0\n",
      "34.0\n",
      "35.0\n",
      "36.0\n",
      "37.0\n",
      "38.0\n",
      "39.0\n",
      "40.0\n",
      "41.0\n",
      "42.0\n",
      "43.0\n",
      "44.0\n",
      "45.0\n",
      "46.0\n",
      "47.0\n",
      "48.0\n",
      "49.0\n",
      "50.0\n",
      "51.0\n",
      "52.0\n",
      "53.0\n",
      "54.0\n",
      "55.0\n",
      "56.0\n",
      "57.0\n",
      "58.0\n"
     ]
    }
   ],
   "source": [
    "\n",
    "Artist_embeddings = np.array(Artist_embeddings)\n",
    "\n",
    "for x in range(Artist_embeddings.shape[0]):\n",
    "    if x%100==0:\n",
    "        print(x/100)\n",
    "    for y in range(x):\n",
    "        for i in range(3):\n",
    "            influencer_data[i].append(Artist_embeddings[x,i])\n",
    "            follower_data[i].append(Artist_embeddings[y,i])\n"
   ]
  },
  {
   "cell_type": "code",
   "execution_count": null,
   "metadata": {},
   "outputs": [],
   "source": [
    "result_correlation = pd.DataFrame(index=data_name,columns=['correlation']).fillna(value=0)\n",
    "INDEX=range(len(follower_data[0]))\n",
    "for i in range(len(data_name)):\n",
    "    dinfluencer = pd.Series(influencer_data[i], index=INDEX,dtype=float)\n",
    "    dfollower = pd.Series(follower_data[i], index=INDEX,dtype=float)\n",
    "    df=pd.DataFrame({'influencer':dinfluencer,'followepearsonr':dfollower},dtype=float)\n",
    "    result_correlation.iloc[i,0]=df.corr(method='kendall').iloc[0,1]\n",
    "#     pearson   spearman    kendall\n",
    "print(result_correlation)"
   ]
  },
  {
   "cell_type": "code",
   "execution_count": null,
   "metadata": {},
   "outputs": [],
   "source": [
    "result_correlation.to_csv('cooooo_kendall_correlation_of_unconnected_musicians.csv')"
   ]
  },
  {
   "cell_type": "code",
   "execution_count": null,
   "metadata": {},
   "outputs": [],
   "source": []
  }
 ],
 "metadata": {
  "kernelspec": {
   "display_name": "Python 3",
   "language": "python",
   "name": "python3"
  },
  "language_info": {
   "codemirror_mode": {
    "name": "ipython",
    "version": 3
   },
   "file_extension": ".py",
   "mimetype": "text/x-python",
   "name": "python",
   "nbconvert_exporter": "python",
   "pygments_lexer": "ipython3",
   "version": "3.8.5"
  }
 },
 "nbformat": 4,
 "nbformat_minor": 4
}
