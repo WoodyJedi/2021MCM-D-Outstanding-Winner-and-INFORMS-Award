{
 "cells": [
  {
   "cell_type": "code",
   "execution_count": 2,
   "metadata": {},
   "outputs": [],
   "source": [
    "import networkx as nx\n",
    "import pandas as pd\n",
    "import numpy as np\n"
   ]
  },
  {
   "cell_type": "code",
   "execution_count": 3,
   "metadata": {},
   "outputs": [],
   "source": [
    "influence_data = pd.read_csv('influence_data.csv')\n",
    "data_by_artist = pd.read_csv('data_by_artist.csv',index_col=1,dtype={'mode':np.float64})"
   ]
  },
  {
   "cell_type": "code",
   "execution_count": 4,
   "metadata": {},
   "outputs": [
    {
     "data": {
      "text/html": [
       "<div>\n",
       "<style scoped>\n",
       "    .dataframe tbody tr th:only-of-type {\n",
       "        vertical-align: middle;\n",
       "    }\n",
       "\n",
       "    .dataframe tbody tr th {\n",
       "        vertical-align: top;\n",
       "    }\n",
       "\n",
       "    .dataframe thead th {\n",
       "        text-align: right;\n",
       "    }\n",
       "</style>\n",
       "<table border=\"1\" class=\"dataframe\">\n",
       "  <thead>\n",
       "    <tr style=\"text-align: right;\">\n",
       "      <th></th>\n",
       "      <th>artist_id</th>\n",
       "      <th>Component_0</th>\n",
       "      <th>Component_1</th>\n",
       "      <th>Component_2</th>\n",
       "    </tr>\n",
       "  </thead>\n",
       "  <tbody>\n",
       "    <tr>\n",
       "      <th>0</th>\n",
       "      <td>792507</td>\n",
       "      <td>1.150376</td>\n",
       "      <td>0.258632</td>\n",
       "      <td>0.722177</td>\n",
       "    </tr>\n",
       "    <tr>\n",
       "      <th>1</th>\n",
       "      <td>119107</td>\n",
       "      <td>1.654902</td>\n",
       "      <td>0.660330</td>\n",
       "      <td>3.661171</td>\n",
       "    </tr>\n",
       "    <tr>\n",
       "      <th>2</th>\n",
       "      <td>816890</td>\n",
       "      <td>0.289474</td>\n",
       "      <td>-0.770976</td>\n",
       "      <td>0.549894</td>\n",
       "    </tr>\n",
       "    <tr>\n",
       "      <th>3</th>\n",
       "      <td>79016</td>\n",
       "      <td>1.248595</td>\n",
       "      <td>-0.398232</td>\n",
       "      <td>0.267062</td>\n",
       "    </tr>\n",
       "    <tr>\n",
       "      <th>4</th>\n",
       "      <td>66915</td>\n",
       "      <td>0.214653</td>\n",
       "      <td>-0.151386</td>\n",
       "      <td>0.708397</td>\n",
       "    </tr>\n",
       "    <tr>\n",
       "      <th>...</th>\n",
       "      <td>...</td>\n",
       "      <td>...</td>\n",
       "      <td>...</td>\n",
       "      <td>...</td>\n",
       "    </tr>\n",
       "    <tr>\n",
       "      <th>5849</th>\n",
       "      <td>3359519</td>\n",
       "      <td>-0.000960</td>\n",
       "      <td>-0.900278</td>\n",
       "      <td>-0.421923</td>\n",
       "    </tr>\n",
       "    <tr>\n",
       "      <th>5850</th>\n",
       "      <td>3381566</td>\n",
       "      <td>-1.528295</td>\n",
       "      <td>0.276644</td>\n",
       "      <td>0.337731</td>\n",
       "    </tr>\n",
       "    <tr>\n",
       "      <th>5851</th>\n",
       "      <td>3410250</td>\n",
       "      <td>0.140056</td>\n",
       "      <td>0.387234</td>\n",
       "      <td>-0.827585</td>\n",
       "    </tr>\n",
       "    <tr>\n",
       "      <th>5852</th>\n",
       "      <td>3455945</td>\n",
       "      <td>-0.449464</td>\n",
       "      <td>1.299648</td>\n",
       "      <td>-0.635367</td>\n",
       "    </tr>\n",
       "    <tr>\n",
       "      <th>5853</th>\n",
       "      <td>3639618</td>\n",
       "      <td>-0.835938</td>\n",
       "      <td>1.024051</td>\n",
       "      <td>-0.569124</td>\n",
       "    </tr>\n",
       "  </tbody>\n",
       "</table>\n",
       "<p>5854 rows × 4 columns</p>\n",
       "</div>"
      ],
      "text/plain": [
       "      artist_id  Component_0  Component_1  Component_2\n",
       "0        792507     1.150376     0.258632     0.722177\n",
       "1        119107     1.654902     0.660330     3.661171\n",
       "2        816890     0.289474    -0.770976     0.549894\n",
       "3         79016     1.248595    -0.398232     0.267062\n",
       "4         66915     0.214653    -0.151386     0.708397\n",
       "...         ...          ...          ...          ...\n",
       "5849    3359519    -0.000960    -0.900278    -0.421923\n",
       "5850    3381566    -1.528295     0.276644     0.337731\n",
       "5851    3410250     0.140056     0.387234    -0.827585\n",
       "5852    3455945    -0.449464     1.299648    -0.635367\n",
       "5853    3639618    -0.835938     1.024051    -0.569124\n",
       "\n",
       "[5854 rows x 4 columns]"
      ]
     },
     "execution_count": 4,
     "metadata": {},
     "output_type": "execute_result"
    }
   ],
   "source": [
    "Artist_embeddings = pd.read_csv('Artist_embeddings.csv')\n",
    "Artist_embeddings"
   ]
  },
  {
   "cell_type": "code",
   "execution_count": 4,
   "metadata": {},
   "outputs": [],
   "source": [
    "data_name=['acousticness','danceability','duration_ms','energy','instrumentalness',\n",
    "      'key','liveness','loudness','mode','speechiness','tempo','valence']"
   ]
  },
  {
   "cell_type": "code",
   "execution_count": 5,
   "metadata": {},
   "outputs": [],
   "source": [
    "influencer_acousticness = []\n",
    "influencer_danceability = []\n",
    "influencer_duration_ms = []\n",
    "influencer_energy = []\n",
    "influencer_instrumentalness = []\n",
    "influencer_key = []\n",
    "influencer_liveness = []\n",
    "influencer_loudness = []\n",
    "influencer_mode = []\n",
    "influencer_speechiness = []\n",
    "influencer_tempo = []\n",
    "influencer_valence = []\n",
    "influencer_data=[influencer_acousticness,influencer_danceability,\n",
    "               influencer_duration_ms,influencer_energy,\n",
    "               influencer_instrumentalness,\n",
    "               influencer_key,influencer_liveness,influencer_loudness,\n",
    "               influencer_mode,influencer_speechiness,\n",
    "               influencer_tempo,influencer_valence]"
   ]
  },
  {
   "cell_type": "code",
   "execution_count": 6,
   "metadata": {},
   "outputs": [],
   "source": [
    "follower_acousticness = []\n",
    "follower_danceability = []\n",
    "follower_duration_ms = []\n",
    "follower_energy = []\n",
    "follower_instrumentalness = []\n",
    "follower_key = []\n",
    "follower_liveness = []\n",
    "follower_loudness = []\n",
    "follower_mode = []\n",
    "follower_speechiness = []\n",
    "follower_tempo = []\n",
    "follower_valence = []\n",
    "follower_data=[follower_acousticness,follower_danceability,\n",
    "               follower_duration_ms,follower_energy,\n",
    "               follower_instrumentalness,\n",
    "               follower_key,follower_liveness,follower_loudness,\n",
    "               follower_mode,follower_speechiness,\n",
    "               follower_tempo,follower_valence]"
   ]
  },
  {
   "cell_type": "code",
   "execution_count": 7,
   "metadata": {},
   "outputs": [],
   "source": [
    "for index, row in list(influence_data.iterrows()):\n",
    "    for i in range(12):\n",
    "        try:\n",
    "            data_by_artist.loc[row.influencer_id,data_name[i]]\n",
    "            data_by_artist.loc[row.follower_id,data_name[i]]\n",
    "        except:\n",
    "            continue\n",
    "        influencer_data[i].append(data_by_artist.loc[row.influencer_id,data_name[i]])\n",
    "        follower_data[i].append(data_by_artist.loc[row.follower_id,data_name[i]])\n"
   ]
  },
  {
   "cell_type": "code",
   "execution_count": 18,
   "metadata": {},
   "outputs": [
    {
     "name": "stdout",
     "output_type": "stream",
     "text": [
      "                  correlation\n",
      "acousticness         0.620139\n",
      "danceability         0.433041\n",
      "duration_ms          0.351023\n",
      "energy               0.573492\n",
      "instrumentalness     0.393716\n",
      "key                  0.002879\n",
      "liveness             0.100721\n",
      "loudness             0.414670\n",
      "mode                 0.104872\n",
      "speechiness          0.314740\n",
      "tempo                0.190544\n",
      "valence              0.361113\n"
     ]
    }
   ],
   "source": [
    "result_correlation = pd.DataFrame(index=data_name,columns=['correlation']).fillna(value=0)\n",
    "INDEX=range(len(follower_data[0]))\n",
    "for i in range(len(data_name)):\n",
    "    dinfluencer = pd.Series(influencer_data[i], index=INDEX,dtype=float)\n",
    "    dfollower = pd.Series(follower_data[i], index=INDEX,dtype=float)\n",
    "    df=pd.DataFrame({'influencer':dinfluencer,'follower':dfollower},dtype=float)\n",
    "    result_correlation.iloc[i,0]=df.corr(method='spearman').iloc[0,1]\n",
    "print(result_correlation)"
   ]
  },
  {
   "cell_type": "code",
   "execution_count": 19,
   "metadata": {},
   "outputs": [],
   "source": [
    "result_correlation.to_csv('spearman_correlation_of_connected_musicians.csv')"
   ]
  },
  {
   "cell_type": "code",
   "execution_count": null,
   "metadata": {},
   "outputs": [],
   "source": []
  }
 ],
 "metadata": {
  "kernelspec": {
   "display_name": "Python 3",
   "language": "python",
   "name": "python3"
  },
  "language_info": {
   "codemirror_mode": {
    "name": "ipython",
    "version": 3
   },
   "file_extension": ".py",
   "mimetype": "text/x-python",
   "name": "python",
   "nbconvert_exporter": "python",
   "pygments_lexer": "ipython3",
   "version": "3.8.5"
  }
 },
 "nbformat": 4,
 "nbformat_minor": 4
}
