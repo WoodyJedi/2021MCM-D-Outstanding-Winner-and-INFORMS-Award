{
 "cells": [
  {
   "cell_type": "code",
   "execution_count": 1,
   "metadata": {
    "ExecuteTime": {
     "end_time": "2021-02-08T02:59:44.082096Z",
     "start_time": "2021-02-08T02:59:42.734709Z"
    }
   },
   "outputs": [],
   "source": [
    "import numpy as np\n",
    "import pandas as pd\n",
    "import networkx as nx\n",
    "from joblib import dump, load\n",
    "\n",
    "from sklearn.preprocessing import MinMaxScaler\n",
    "from sklearn.decomposition import FactorAnalysis\n",
    "\n",
    "from tqdm import tqdm, trange\n",
    "import plotly.io as pio\n",
    "import plotly.express as px\n",
    "from matplotlib import pyplot as plt\n",
    "from mpl_toolkits.mplot3d import Axes3D\n",
    "\n",
    "plt.rcParams['xtick.direction'] = 'in'\n",
    "plt.rcParams['ytick.direction'] = 'in'\n",
    "plt.style.use('seaborn-paper')\n",
    "comp = [\"Component_\"+str(i) for i in range(3)]\n",
    "name = [\"Acoustics-energy Component\", \"Valence Component\", \"Instrumental Component\"]"
   ]
  },
  {
   "cell_type": "code",
   "execution_count": 2,
   "metadata": {
    "ExecuteTime": {
     "end_time": "2021-02-08T02:59:45.787465Z",
     "start_time": "2021-02-08T02:59:44.950535Z"
    }
   },
   "outputs": [],
   "source": [
    "raw_influence_data = pd.read_csv(\"influence_data.csv\")\n",
    "m = np.shape(raw_influence_data)[0]\n",
    "musician_dict = dict()\n",
    "# counts = raw_influence_data[\"follower_id\"].value_counts()\n",
    "\n",
    "for i in range(m):\n",
    "    g1 = raw_influence_data[\"influencer_main_genre\"][i]\n",
    "    g2 = raw_influence_data[\"follower_main_genre\"][i]\n",
    "    artist1 = raw_influence_data[\"influencer_id\"][i]\n",
    "    artist2 = raw_influence_data[\"follower_id\"][i]\n",
    "    if musician_dict.get(artist1, -1) == -1:\n",
    "        musician_dict[artist1] = g1\n",
    "    if musician_dict.get(artist2, -1) == -1:\n",
    "        musician_dict[artist2] = g2"
   ]
  },
  {
   "cell_type": "code",
   "execution_count": 3,
   "metadata": {
    "ExecuteTime": {
     "end_time": "2021-02-08T02:59:46.934745Z",
     "start_time": "2021-02-08T02:59:46.547350Z"
    }
   },
   "outputs": [],
   "source": [
    "info_columns = [\"danceability\", \"energy\", \"valence\", \"tempo\", \"loudness\", \"mode\", \"key\", \"acousticness\",\n",
    "                \"instrumentalness\", \"liveness\", \"speechiness\", \"duration_ms\"]\n",
    "\n",
    "raw_full_data = pd.read_csv(\"full_music_data.csv\")\n",
    "artists_id = raw_full_data[\"artists_id\"].values\n",
    "genre_list = []\n",
    "n = np.shape(artists_id)[0]\n",
    "for i in range(n):\n",
    "    temp, flag = artists_id[i][1:-1].split(','), False\n",
    "    for x in temp:\n",
    "        if musician_dict.get(int(x.lstrip(' ')), -1) != -1:\n",
    "            genre_list.append(musician_dict[int(x.lstrip(' '))])\n",
    "            flag = True\n",
    "            break\n",
    "    if not flag:\n",
    "        genre_list.append(\"Unknown\")\n",
    "\n",
    "genres = pd.unique(genre_list)\n",
    "n_genres = len(genres)"
   ]
  },
  {
   "cell_type": "code",
   "execution_count": 4,
   "metadata": {
    "ExecuteTime": {
     "end_time": "2021-02-08T02:59:48.517877Z",
     "start_time": "2021-02-08T02:59:48.465947Z"
    }
   },
   "outputs": [],
   "source": [
    "raw_data_artist = pd.read_csv(\"data_by_artist.csv\")\n",
    "\n",
    "scaler = MinMaxScaler()\n",
    "X = scaler.fit_transform(raw_data_artist[info_columns].values)\n",
    "\n",
    "dimension_reducer = load(\"P2_FA.joblib\")\n",
    "Z = dimension_reducer.transform(X)"
   ]
  },
  {
   "cell_type": "code",
   "execution_count": 5,
   "metadata": {
    "ExecuteTime": {
     "end_time": "2021-02-08T02:59:50.602068Z",
     "start_time": "2021-02-08T02:59:50.462467Z"
    }
   },
   "outputs": [],
   "source": [
    "musician_embedding = dict()\n",
    "musician_features = dict()\n",
    "genre_dict = {g: [] for g in genres}\n",
    "\n",
    "for i in range(np.shape(raw_data_artist)[0]):\n",
    "    if musician_dict.get(raw_data_artist[\"artist_id\"][i], -1) != -1:\n",
    "        musician_embedding[raw_data_artist[\"artist_id\"][i]] = Z[i, :]\n",
    "        musician_features[raw_data_artist[\"artist_id\"][i]] = X[i, :]\n",
    "        genre_dict[musician_dict[raw_data_artist[\"artist_id\"][i]]].append(raw_data_artist[\"artist_id\"][i])"
   ]
  },
  {
   "cell_type": "code",
   "execution_count": 27,
   "metadata": {
    "ExecuteTime": {
     "end_time": "2021-02-08T02:59:52.113471Z",
     "start_time": "2021-02-08T02:59:52.044589Z"
    }
   },
   "outputs": [
    {
     "data": {
      "text/html": [
       "<div>\n",
       "<style scoped>\n",
       "    .dataframe tbody tr th:only-of-type {\n",
       "        vertical-align: middle;\n",
       "    }\n",
       "\n",
       "    .dataframe tbody tr th {\n",
       "        vertical-align: top;\n",
       "    }\n",
       "\n",
       "    .dataframe thead th {\n",
       "        text-align: right;\n",
       "    }\n",
       "</style>\n",
       "<table border=\"1\" class=\"dataframe\">\n",
       "  <thead>\n",
       "    <tr style=\"text-align: right;\">\n",
       "      <th></th>\n",
       "      <th>year</th>\n",
       "      <th>genre</th>\n",
       "      <th>Component_0</th>\n",
       "      <th>Component_1</th>\n",
       "      <th>Component_2</th>\n",
       "    </tr>\n",
       "  </thead>\n",
       "  <tbody>\n",
       "    <tr>\n",
       "      <th>0</th>\n",
       "      <td>2005</td>\n",
       "      <td>Electronic</td>\n",
       "      <td>0.711613</td>\n",
       "      <td>1.35852</td>\n",
       "      <td>0.190009</td>\n",
       "    </tr>\n",
       "    <tr>\n",
       "      <th>1</th>\n",
       "      <td>2005</td>\n",
       "      <td>Electronic</td>\n",
       "      <td>0.838388</td>\n",
       "      <td>1.06997</td>\n",
       "      <td>-0.616891</td>\n",
       "    </tr>\n",
       "    <tr>\n",
       "      <th>2</th>\n",
       "      <td>2009</td>\n",
       "      <td>Electronic</td>\n",
       "      <td>0.0465882</td>\n",
       "      <td>0.794521</td>\n",
       "      <td>-0.299105</td>\n",
       "    </tr>\n",
       "    <tr>\n",
       "      <th>3</th>\n",
       "      <td>1991</td>\n",
       "      <td>R&amp;B;</td>\n",
       "      <td>-0.695823</td>\n",
       "      <td>-1.02954</td>\n",
       "      <td>-0.242422</td>\n",
       "    </tr>\n",
       "    <tr>\n",
       "      <th>4</th>\n",
       "      <td>1987</td>\n",
       "      <td>R&amp;B;</td>\n",
       "      <td>-1.15617</td>\n",
       "      <td>-1.02996</td>\n",
       "      <td>0.991825</td>\n",
       "    </tr>\n",
       "    <tr>\n",
       "      <th>...</th>\n",
       "      <td>...</td>\n",
       "      <td>...</td>\n",
       "      <td>...</td>\n",
       "      <td>...</td>\n",
       "      <td>...</td>\n",
       "    </tr>\n",
       "    <tr>\n",
       "      <th>98335</th>\n",
       "      <td>1975</td>\n",
       "      <td>Pop/Rock</td>\n",
       "      <td>-1.35174</td>\n",
       "      <td>-0.123036</td>\n",
       "      <td>0.675505</td>\n",
       "    </tr>\n",
       "    <tr>\n",
       "      <th>98336</th>\n",
       "      <td>1976</td>\n",
       "      <td>Pop/Rock</td>\n",
       "      <td>-0.305275</td>\n",
       "      <td>-1.42786</td>\n",
       "      <td>-0.10848</td>\n",
       "    </tr>\n",
       "    <tr>\n",
       "      <th>98337</th>\n",
       "      <td>1987</td>\n",
       "      <td>Pop/Rock</td>\n",
       "      <td>-0.716973</td>\n",
       "      <td>-1.07521</td>\n",
       "      <td>0.293699</td>\n",
       "    </tr>\n",
       "    <tr>\n",
       "      <th>98338</th>\n",
       "      <td>1992</td>\n",
       "      <td>Pop/Rock</td>\n",
       "      <td>-0.433674</td>\n",
       "      <td>0.190241</td>\n",
       "      <td>0.140794</td>\n",
       "    </tr>\n",
       "    <tr>\n",
       "      <th>98339</th>\n",
       "      <td>2005</td>\n",
       "      <td>Pop/Rock</td>\n",
       "      <td>-1.29053</td>\n",
       "      <td>-0.800895</td>\n",
       "      <td>0.293881</td>\n",
       "    </tr>\n",
       "  </tbody>\n",
       "</table>\n",
       "<p>98340 rows × 5 columns</p>\n",
       "</div>"
      ],
      "text/plain": [
       "       year       genre Component_0 Component_1 Component_2\n",
       "0      2005  Electronic    0.711613     1.35852    0.190009\n",
       "1      2005  Electronic    0.838388     1.06997   -0.616891\n",
       "2      2009  Electronic   0.0465882    0.794521   -0.299105\n",
       "3      1991        R&B;   -0.695823    -1.02954   -0.242422\n",
       "4      1987        R&B;    -1.15617    -1.02996    0.991825\n",
       "...     ...         ...         ...         ...         ...\n",
       "98335  1975    Pop/Rock    -1.35174   -0.123036    0.675505\n",
       "98336  1976    Pop/Rock   -0.305275    -1.42786    -0.10848\n",
       "98337  1987    Pop/Rock   -0.716973    -1.07521    0.293699\n",
       "98338  1992    Pop/Rock   -0.433674    0.190241    0.140794\n",
       "98339  2005    Pop/Rock    -1.29053   -0.800895    0.293881\n",
       "\n",
       "[98340 rows x 5 columns]"
      ]
     },
     "execution_count": 27,
     "metadata": {},
     "output_type": "execute_result"
    }
   ],
   "source": [
    "##### temp = raw_full_data[\"year\"].values\n",
    "temp = temp.reshape((temp.shape[0], 1))\n",
    "X_ = MinMaxScaler().fit_transform(raw_full_data[info_columns].values)\n",
    "Z_ = dimension_reducer.transform(X_)\n",
    "new_data = np.hstack((temp, np.reshape(genre_list, (len(genre_list), 1)).astype(object), Z_))\n",
    "\n",
    "new_data = pd.DataFrame(new_data, index = raw_full_data.index, \\\n",
    "                        columns = [\"year\", \"genre\"] + [\"Component_\"+str(i) for i in [0, 1, 2]], dtype = object)\n",
    "new_data"
   ]
  },
  {
   "cell_type": "code",
   "execution_count": 30,
   "metadata": {},
   "outputs": [
    {
     "data": {
      "image/png": "[encoded data removed]",
      "text/plain": [
       "<Figure size 460.8x316.8 with 1 Axes>"
      ]
     },
     "metadata": {
      "needs_background": "light"
     },
     "output_type": "display_data"
    }
   ],
   "source": [
    "import matplotlib.pyplot as plt\n",
    "import numpy as np\n",
    "\n",
    "new_data = new_data.sort_values(by='year')\n",
    "x = new_data['year'].rolling(window=5000).mean()\n",
    "y = new_data['Component_0'].rolling(window=5000).mean()\n",
    "\n",
    "plt.plot(x, y, ls=\"-\", lw=2, label=\"plot figure\")\n",
    "\n",
    "std = new_data['Component_0'].rolling(window=5000).std()\n",
    "mean = new_data['Component_0'].rolling(window=5000).mean()\n",
    "\n",
    "x_up = new_data['year'].rolling(window=5000).mean()\n",
    "y_up = mean + 0.22*std\n",
    "\n",
    "plt.plot(x_up, y_up, ls=\"-\", lw=2, label=\"up\")\n",
    "\n",
    "\n",
    "x_down = new_data['year'].rolling(window=5000).mean()\n",
    "y_down = mean - 0.22*std\n",
    "\n",
    "plt.plot(x_down, y_down, ls=\"-\", lw=2, label=\"down\")\n",
    "\n",
    "plt.fill_between(x_down, y_down, y_up, y_up > y_down, color='orangered', alpha=0.2)\n",
    "\n",
    "plt.legend()\n",
    "\n",
    "plt.show()\n"
   ]
  }
 ],
 "metadata": {
  "kernelspec": {
   "display_name": "Python 3",
   "language": "python",
   "name": "python3"
  },
  "language_info": {
   "codemirror_mode": {
    "name": "ipython",
    "version": 3
   },
   "file_extension": ".py",
   "mimetype": "text/x-python",
   "name": "python",
   "nbconvert_exporter": "python",
   "pygments_lexer": "ipython3",
   "version": "3.8.5"
  },
  "varInspector": {
   "cols": {
    "lenName": 16,
    "lenType": 16,
    "lenVar": 40
   },
   "kernels_config": {
    "python": {
     "delete_cmd_postfix": "",
     "delete_cmd_prefix": "del ",
     "library": "var_list.py",
     "varRefreshCmd": "print(var_dic_list())"
    },
    "r": {
     "delete_cmd_postfix": ") ",
     "delete_cmd_prefix": "rm(",
     "library": "var_list.r",
     "varRefreshCmd": "cat(var_dic_list()) "
    }
   },
   "types_to_exclude": [
    "module",
    "function",
    "builtin_function_or_method",
    "instance",
    "_Feature"
   ],
   "window_display": false
  }
 },
 "nbformat": 4,
 "nbformat_minor": 5
}
