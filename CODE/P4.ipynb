{
 "cells": [
  {
   "cell_type": "code",
   "execution_count": 13,
   "metadata": {},
   "outputs": [],
   "source": [
    "import networkx as nx\n",
    "import pandas as pd\n",
    "import numpy as np\n",
    "from tqdm import tqdm, trange\n"
   ]
  },
  {
   "cell_type": "code",
   "execution_count": 14,
   "metadata": {},
   "outputs": [],
   "source": [
    "data = pd.read_csv('influence_data.csv')"
   ]
  },
  {
   "cell_type": "code",
   "execution_count": 15,
   "metadata": {},
   "outputs": [
    {
     "data": {
      "text/html": [
       "<div>\n",
       "<style scoped>\n",
       "    .dataframe tbody tr th:only-of-type {\n",
       "        vertical-align: middle;\n",
       "    }\n",
       "\n",
       "    .dataframe tbody tr th {\n",
       "        vertical-align: top;\n",
       "    }\n",
       "\n",
       "    .dataframe thead th {\n",
       "        text-align: right;\n",
       "    }\n",
       "</style>\n",
       "<table border=\"1\" class=\"dataframe\">\n",
       "  <thead>\n",
       "    <tr style=\"text-align: right;\">\n",
       "      <th></th>\n",
       "      <th>influencer_id</th>\n",
       "      <th>influencer_name</th>\n",
       "      <th>influencer_main_genre</th>\n",
       "      <th>influencer_active_start</th>\n",
       "      <th>follower_id</th>\n",
       "      <th>follower_name</th>\n",
       "      <th>follower_main_genre</th>\n",
       "      <th>follower_active_start</th>\n",
       "    </tr>\n",
       "  </thead>\n",
       "  <tbody>\n",
       "    <tr>\n",
       "      <th>0</th>\n",
       "      <td>759491</td>\n",
       "      <td>The Exploited</td>\n",
       "      <td>Pop/Rock</td>\n",
       "      <td>1980</td>\n",
       "      <td>74</td>\n",
       "      <td>Special Duties</td>\n",
       "      <td>Pop/Rock</td>\n",
       "      <td>1980</td>\n",
       "    </tr>\n",
       "    <tr>\n",
       "      <th>1</th>\n",
       "      <td>25462</td>\n",
       "      <td>Tricky</td>\n",
       "      <td>Electronic</td>\n",
       "      <td>1990</td>\n",
       "      <td>335</td>\n",
       "      <td>PJ Harvey</td>\n",
       "      <td>Pop/Rock</td>\n",
       "      <td>1990</td>\n",
       "    </tr>\n",
       "    <tr>\n",
       "      <th>2</th>\n",
       "      <td>66915</td>\n",
       "      <td>Bob Dylan</td>\n",
       "      <td>Pop/Rock</td>\n",
       "      <td>1960</td>\n",
       "      <td>335</td>\n",
       "      <td>PJ Harvey</td>\n",
       "      <td>Pop/Rock</td>\n",
       "      <td>1990</td>\n",
       "    </tr>\n",
       "    <tr>\n",
       "      <th>3</th>\n",
       "      <td>71209</td>\n",
       "      <td>Leonard Cohen</td>\n",
       "      <td>Pop/Rock</td>\n",
       "      <td>1950</td>\n",
       "      <td>335</td>\n",
       "      <td>PJ Harvey</td>\n",
       "      <td>Pop/Rock</td>\n",
       "      <td>1990</td>\n",
       "    </tr>\n",
       "    <tr>\n",
       "      <th>4</th>\n",
       "      <td>91438</td>\n",
       "      <td>The Gun Club</td>\n",
       "      <td>Pop/Rock</td>\n",
       "      <td>1980</td>\n",
       "      <td>335</td>\n",
       "      <td>PJ Harvey</td>\n",
       "      <td>Pop/Rock</td>\n",
       "      <td>1990</td>\n",
       "    </tr>\n",
       "    <tr>\n",
       "      <th>...</th>\n",
       "      <td>...</td>\n",
       "      <td>...</td>\n",
       "      <td>...</td>\n",
       "      <td>...</td>\n",
       "      <td>...</td>\n",
       "      <td>...</td>\n",
       "      <td>...</td>\n",
       "      <td>...</td>\n",
       "    </tr>\n",
       "    <tr>\n",
       "      <th>42765</th>\n",
       "      <td>580300</td>\n",
       "      <td>Sufjan Stevens</td>\n",
       "      <td>Pop/Rock</td>\n",
       "      <td>1990</td>\n",
       "      <td>3661738</td>\n",
       "      <td>Rosemary &amp; Garlic</td>\n",
       "      <td>Pop/Rock</td>\n",
       "      <td>2010</td>\n",
       "    </tr>\n",
       "    <tr>\n",
       "      <th>42766</th>\n",
       "      <td>261309</td>\n",
       "      <td>Vybz Kartel</td>\n",
       "      <td>Reggae</td>\n",
       "      <td>2000</td>\n",
       "      <td>3670556</td>\n",
       "      <td>Trinidad Cardona</td>\n",
       "      <td>R&amp;B;</td>\n",
       "      <td>2010</td>\n",
       "    </tr>\n",
       "    <tr>\n",
       "      <th>42767</th>\n",
       "      <td>467203</td>\n",
       "      <td>Michael Jackson</td>\n",
       "      <td>R&amp;B;</td>\n",
       "      <td>1960</td>\n",
       "      <td>3670556</td>\n",
       "      <td>Trinidad Cardona</td>\n",
       "      <td>R&amp;B;</td>\n",
       "      <td>2010</td>\n",
       "    </tr>\n",
       "    <tr>\n",
       "      <th>42768</th>\n",
       "      <td>2518003</td>\n",
       "      <td>Popcaan</td>\n",
       "      <td>Reggae</td>\n",
       "      <td>2000</td>\n",
       "      <td>3670556</td>\n",
       "      <td>Trinidad Cardona</td>\n",
       "      <td>R&amp;B;</td>\n",
       "      <td>2010</td>\n",
       "    </tr>\n",
       "    <tr>\n",
       "      <th>42769</th>\n",
       "      <td>2896351</td>\n",
       "      <td>Tommy Lee</td>\n",
       "      <td>Reggae</td>\n",
       "      <td>2000</td>\n",
       "      <td>3670556</td>\n",
       "      <td>Trinidad Cardona</td>\n",
       "      <td>R&amp;B;</td>\n",
       "      <td>2010</td>\n",
       "    </tr>\n",
       "  </tbody>\n",
       "</table>\n",
       "<p>42770 rows × 8 columns</p>\n",
       "</div>"
      ],
      "text/plain": [
       "       influencer_id  influencer_name influencer_main_genre  \\\n",
       "0             759491    The Exploited              Pop/Rock   \n",
       "1              25462           Tricky            Electronic   \n",
       "2              66915        Bob Dylan              Pop/Rock   \n",
       "3              71209    Leonard Cohen              Pop/Rock   \n",
       "4              91438     The Gun Club              Pop/Rock   \n",
       "...              ...              ...                   ...   \n",
       "42765         580300   Sufjan Stevens              Pop/Rock   \n",
       "42766         261309      Vybz Kartel                Reggae   \n",
       "42767         467203  Michael Jackson                  R&B;   \n",
       "42768        2518003          Popcaan                Reggae   \n",
       "42769        2896351        Tommy Lee                Reggae   \n",
       "\n",
       "       influencer_active_start  follower_id      follower_name  \\\n",
       "0                         1980           74     Special Duties   \n",
       "1                         1990          335          PJ Harvey   \n",
       "2                         1960          335          PJ Harvey   \n",
       "3                         1950          335          PJ Harvey   \n",
       "4                         1980          335          PJ Harvey   \n",
       "...                        ...          ...                ...   \n",
       "42765                     1990      3661738  Rosemary & Garlic   \n",
       "42766                     2000      3670556   Trinidad Cardona   \n",
       "42767                     1960      3670556   Trinidad Cardona   \n",
       "42768                     2000      3670556   Trinidad Cardona   \n",
       "42769                     2000      3670556   Trinidad Cardona   \n",
       "\n",
       "      follower_main_genre  follower_active_start  \n",
       "0                Pop/Rock                   1980  \n",
       "1                Pop/Rock                   1990  \n",
       "2                Pop/Rock                   1990  \n",
       "3                Pop/Rock                   1990  \n",
       "4                Pop/Rock                   1990  \n",
       "...                   ...                    ...  \n",
       "42765            Pop/Rock                   2010  \n",
       "42766                R&B;                   2010  \n",
       "42767                R&B;                   2010  \n",
       "42768                R&B;                   2010  \n",
       "42769                R&B;                   2010  \n",
       "\n",
       "[42770 rows x 8 columns]"
      ]
     },
     "execution_count": 15,
     "metadata": {},
     "output_type": "execute_result"
    }
   ],
   "source": [
    "data"
   ]
  },
  {
   "cell_type": "code",
   "execution_count": 16,
   "metadata": {
    "scrolled": true
   },
   "outputs": [],
   "source": [
    "# Set up a DataFrame to look up the genre and active_start_decade of the musicians\n",
    "influencer_info = data.iloc[:,[0,2,3]].set_index('influencer_id')\n",
    "\n",
    "influencer_info =influencer_info.T.rename(\n",
    "    index={'influencer_main_genre':'genre','influencer_active_start':'decade'}).T\n",
    "follower_info = data.iloc[:,[4,6,7]].set_index('follower_id')\n",
    "\n",
    "follower_info = follower_info.T.rename(\n",
    "    index={'follower_main_genre':'genre','follower_active_start':'decade'}).T\n",
    "musician_info=pd.concat([influencer_info,follower_info])\n",
    "musician_info = musician_info.groupby(musician_info.index).first()"
   ]
  },
  {
   "cell_type": "code",
   "execution_count": 17,
   "metadata": {
    "scrolled": true
   },
   "outputs": [],
   "source": [
    "musician=list(musician_info.index)"
   ]
  },
  {
   "cell_type": "code",
   "execution_count": 18,
   "metadata": {},
   "outputs": [
    {
     "data": {
      "text/plain": [
       "5603"
      ]
     },
     "execution_count": 18,
     "metadata": {},
     "output_type": "execute_result"
    }
   ],
   "source": [
    "len(musician)"
   ]
  },
  {
   "cell_type": "code",
   "execution_count": 6,
   "metadata": {},
   "outputs": [],
   "source": [
    "G=nx.DiGraph()\n",
    "for index, row in data.iterrows():\n",
    "    G.add_edge(row.influencer_id, row.follower_id)\n"
   ]
  },
  {
   "cell_type": "code",
   "execution_count": 10,
   "metadata": {
    "scrolled": true
   },
   "outputs": [],
   "source": [
    "distance=pd.DataFrame(index=musician,columns=musician,dtype=float).fillna(value = 0)\n",
    "for i in musician:\n",
    "    for j in musician:\n",
    "        try:\n",
    "            distance.loc[i,j]=nx.shortest_path_length(G,source=i, target=j)\n",
    "        except :\n",
    "            distance.loc[i,j]=np.inf\n",
    "\n"
   ]
  },
  {
   "cell_type": "code",
   "execution_count": 36,
   "metadata": {
    "scrolled": true
   },
   "outputs": [
    {
     "name": "stderr",
     "output_type": "stream",
     "text": [
      "<ipython-input-36-d3a14d252691>:8: RuntimeWarning: divide by zero encountered in double_scalars\n",
      "  mean_distance.loc[i,j]=2/((1/distance.loc[i,j])+(1/distance.loc[j,i]))\n"
     ]
    },
    {
     "name": "stdout",
     "output_type": "stream",
     "text": [
      "29600\n",
      "38100\n",
      "52900\n",
      "66800\n",
      "67900\n",
      "70800\n",
      "75100\n",
      "97200\n",
      "103600\n",
      "134600\n",
      "147200\n",
      "182900\n",
      "196200\n",
      "212200\n",
      "233300\n",
      "258000\n",
      "259800\n",
      "268700\n",
      "282800\n",
      "314600\n",
      "331400\n",
      "363100\n",
      "407300\n",
      "408500\n",
      "450700\n",
      "482600\n",
      "515600\n",
      "569600\n",
      "573100\n",
      "580300\n",
      "662800\n",
      "674600\n",
      "675500\n",
      "688400\n",
      "692100\n",
      "747200\n",
      "762500\n",
      "765900\n",
      "785500\n",
      "799100\n",
      "800100\n",
      "809900\n",
      "816900\n",
      "817000\n",
      "838300\n",
      "840000\n",
      "861600\n",
      "896600\n",
      "918400\n",
      "918600\n",
      "922200\n",
      "944700\n",
      "955700\n",
      "1528100\n",
      "2942900\n",
      "3376900\n"
     ]
    }
   ],
   "source": [
    "mean_distance=pd.DataFrame(index=musician,columns=musician,dtype=float).fillna(value = 0)\n",
    "for i in musician:\n",
    "    if i%100==0:\n",
    "        print(i)\n",
    "    for j in musician:\n",
    "#         divi=1/(np.inf if distance.loc[i,j] == 0 else distance.loc[i,j])+1/(np.inf if distance.loc[j,i] == 0 else distance.loc[j,i])\n",
    "#         if divi != 0:\n",
    "        mean_distance.loc[i,j]=2/((1/distance.loc[i,j])+(1/distance.loc[j,i]))\n",
    "#         else:\n",
    "#             mean_distance.loc[i,j] = np.inf         \n",
    "                                   \n",
    "for i in musician:\n",
    "    mean_distance.loc[i,i]=np.nan"
   ]
  },
  {
   "cell_type": "code",
   "execution_count": 40,
   "metadata": {},
   "outputs": [],
   "source": [
    "distance_list = 1/np.array(mean_distance)\n",
    "\n",
    "train_x_list=distance_list.tolist()\n"
   ]
  },
  {
   "cell_type": "code",
   "execution_count": 42,
   "metadata": {},
   "outputs": [],
   "source": [
    "mean_distance.to_csv('mean_distance.csv')"
   ]
  },
  {
   "cell_type": "code",
   "execution_count": null,
   "metadata": {},
   "outputs": [],
   "source": []
  }
 ],
 "metadata": {
  "kernelspec": {
   "display_name": "Python 3",
   "language": "python",
   "name": "python3"
  },
  "language_info": {
   "codemirror_mode": {
    "name": "ipython",
    "version": 3
   },
   "file_extension": ".py",
   "mimetype": "text/x-python",
   "name": "python",
   "nbconvert_exporter": "python",
   "pygments_lexer": "ipython3",
   "version": "3.8.5"
  }
 },
 "nbformat": 4,
 "nbformat_minor": 4
}
