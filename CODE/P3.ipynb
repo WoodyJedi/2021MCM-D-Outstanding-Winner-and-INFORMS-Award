{
 "cells": [
  {
   "cell_type": "code",
   "execution_count": 1,
   "metadata": {
    "ExecuteTime": {
     "end_time": "2021-02-05T15:08:21.838407Z",
     "start_time": "2021-02-05T15:08:21.733649Z"
    }
   },
   "outputs": [
    {
     "ename": "ModuleNotFoundError",
     "evalue": "No module named 'plotly'",
     "output_type": "error",
     "traceback": [
      "\u001b[0;31m---------------------------------------------------------------------------\u001b[0m",
      "\u001b[0;31mModuleNotFoundError\u001b[0m                       Traceback (most recent call last)",
      "\u001b[0;32m<ipython-input-1-5a00d46b16e3>\u001b[0m in \u001b[0;36m<module>\u001b[0;34m\u001b[0m\n\u001b[1;32m      6\u001b[0m \u001b[0;34m\u001b[0m\u001b[0m\n\u001b[1;32m      7\u001b[0m \u001b[0;32mfrom\u001b[0m \u001b[0mtqdm\u001b[0m \u001b[0;32mimport\u001b[0m \u001b[0mtqdm\u001b[0m\u001b[0;34m,\u001b[0m \u001b[0mtrange\u001b[0m\u001b[0;34m\u001b[0m\u001b[0;34m\u001b[0m\u001b[0m\n\u001b[0;32m----> 8\u001b[0;31m \u001b[0;32mimport\u001b[0m \u001b[0mplotly\u001b[0m\u001b[0;34m.\u001b[0m\u001b[0mexpress\u001b[0m \u001b[0;32mas\u001b[0m \u001b[0mpx\u001b[0m\u001b[0;34m\u001b[0m\u001b[0;34m\u001b[0m\u001b[0m\n\u001b[0m\u001b[1;32m      9\u001b[0m \u001b[0;32mfrom\u001b[0m \u001b[0mmatplotlib\u001b[0m \u001b[0;32mimport\u001b[0m \u001b[0mpyplot\u001b[0m \u001b[0;32mas\u001b[0m \u001b[0mplt\u001b[0m\u001b[0;34m\u001b[0m\u001b[0;34m\u001b[0m\u001b[0m\n\u001b[1;32m     10\u001b[0m \u001b[0;32mfrom\u001b[0m \u001b[0mmpl_toolkits\u001b[0m\u001b[0;34m.\u001b[0m\u001b[0mmplot3d\u001b[0m \u001b[0;32mimport\u001b[0m \u001b[0mAxes3D\u001b[0m\u001b[0;34m\u001b[0m\u001b[0;34m\u001b[0m\u001b[0m\n",
      "\u001b[0;31mModuleNotFoundError\u001b[0m: No module named 'plotly'"
     ]
    }
   ],
   "source": [
    "import numpy as np\n",
    "import pandas as pd\n",
    "import networkx as nx\n",
    "\n",
    "from sklearn.preprocessing import MinMaxScaler\n",
    "\n",
    "from tqdm import tqdm, trange\n",
    "import plotly.express as px\n",
    "from matplotlib import pyplot as plt\n",
    "from mpl_toolkits.mplot3d import Axes3D"
   ]
  },
  {
   "cell_type": "code",
   "execution_count": null,
   "metadata": {
    "ExecuteTime": {
     "end_time": "2021-02-05T13:05:38.511508Z",
     "start_time": "2021-02-05T13:05:37.985586Z"
    }
   },
   "outputs": [],
   "source": [
    "raw_style_data = pd.read_csv(\"influence_data.csv\")\n",
    "m = np.shape(raw_style_data)[0]\n",
    "musician_dict = dict()\n",
    "for i in range(m):\n",
    "    if musician_dict.get(raw_style_data[\"influencer_id\"][i], -1) == -1:\n",
    "        musician_dict[raw_style_data[\"influencer_id\"][i]] = raw_style_data[\"influencer_main_genre\"][i]\n",
    "    if musician_dict.get(raw_style_data[\"follower_id\"][i], -1) == -1:\n",
    "        musician_dict[raw_style_data[\"follower_id\"][i]] = raw_style_data[\"follower_main_genre\"][i]"
   ]
  },
  {
   "cell_type": "code",
   "execution_count": null,
   "metadata": {
    "ExecuteTime": {
     "end_time": "2021-02-05T13:05:39.849114Z",
     "start_time": "2021-02-05T13:05:39.420693Z"
    }
   },
   "outputs": [],
   "source": [
    "info_columns = [\"danceability\", \"energy\", \"valence\", \"tempo\", \"loudness\", \"mode\", \"key\", \"acousticness\",\n",
    "                \"instrumentalness\", \"liveness\", \"speechiness\", \"duration_ms\"]\n",
    "\n",
    "raw_full_data = pd.read_csv(\"full_music_data.csv\")\n",
    "artists_id = raw_full_data[\"artists_id\"].values\n",
    "genre_list = []\n",
    "n = np.shape(artists_id)[0]\n",
    "for i in range(n):\n",
    "    temp, flag = artists_id[i][1:-1].split(','), False\n",
    "    for x in temp:\n",
    "        if musician_dict.get(int(x.lstrip(' ')), -1) != -1:\n",
    "            genre_list.append(musician_dict[int(x.lstrip(' '))])\n",
    "            flag = True\n",
    "            break\n",
    "    if not flag:\n",
    "        genre_list.append(\"Unknown\")\n",
    "\n",
    "genres = pd.unique(genre_list)"
   ]
  },
  {
   "cell_type": "code",
   "execution_count": null,
   "metadata": {
    "ExecuteTime": {
     "end_time": "2021-02-05T14:56:08.376398Z",
     "start_time": "2021-02-05T14:56:08.342244Z"
    }
   },
   "outputs": [],
   "source": [
    "raw_data_artist = pd.read_csv(\"data_by_artist.csv\")\n",
    "\n",
    "scaler = MinMaxScaler()\n",
    "X = scaler.fit_transform(raw_data_artist[info_columns].values)"
   ]
  },
  {
   "cell_type": "markdown",
   "metadata": {},
   "source": [
    "I tried both raw data $X$ and transformed data $XC^T$ whose coefficients $C^T$ are provided by Factor Analysis in Problem 2.  \n",
    "The result shows that with linear transform by FA, the divergences between genres are larger and within a genre are smaller."
   ]
  },
  {
   "cell_type": "code",
   "execution_count": null,
   "metadata": {
    "ExecuteTime": {
     "end_time": "2021-02-05T14:57:41.045612Z",
     "start_time": "2021-02-05T14:57:40.800227Z"
    }
   },
   "outputs": [],
   "source": [
    "fa_coef = pd.read_csv(\"P2_transform_coefficients.csv\", index_col = 0)\n",
    "musician_embedding = dict()\n",
    "genre_dict = {g: [] for g in genres}\n",
    "\n",
    "for i in range(np.shape(raw_data_artist)[0]):\n",
    "    if musician_dict.get(raw_data_artist[\"artist_id\"][i], -1) != -1:\n",
    "        musician_embedding[raw_data_artist[\"artist_id\"][i]] = np.dot(X[i, :], fa_coef)\n",
    "        genre_dict[musician_dict[raw_data_artist[\"artist_id\"][i]]].append(raw_data_artist[\"artist_id\"][i])"
   ]
  },
  {
   "cell_type": "code",
   "execution_count": null,
   "metadata": {
    "ExecuteTime": {
     "end_time": "2021-02-06T02:59:49.792858Z",
     "start_time": "2021-02-06T02:59:49.316135Z"
    }
   },
   "outputs": [],
   "source": [
    "# for g1 in tqdm(genres):\n",
    "for g1 in genres:\n",
    "    for g2 in genres:\n",
    "        g1_artists, g2_artists = genre_dict[g1], genre_dict[g2]\n",
    "        g1_embedding, g2_embedding = [], []\n",
    "        for artist in g1_artists:\n",
    "            g1_embedding.append(musician_embedding[artist])\n",
    "        for artist in g2_artists:\n",
    "            g2_embedding.append(musician_embedding[artist])\n",
    "        g1_embedding, g2_embedding = np.array(g1_embedding), np.array(g2_embedding)\n",
    "#       Gaussian similarity\n",
    "#         sim = np.zeros((len(g1_embedding), len(g2_embedding)))\n",
    "#         for i in range(len(g1_embedding)):\n",
    "#             sim[i, :] = np.exp(-np.linalg.norm(g1_embedding[i]-g2_embedding, 2, axis = 1)**2 / 0.18)\n",
    "#         similarity_matrix[g1][g2] = np.mean(sim[:])\n",
    "\n",
    "#       Cosine similarity\n",
    "        g1_norm = np.linalg.norm(g1_embedding, 2, axis = 1, keepdims = True)\n",
    "        g2_norm = np.linalg.norm(g2_embedding, 2, axis = 1, keepdims = True)\n",
    "        denominator = np.dot(g1_norm, g2_norm.T)\n",
    "        similarity_matrix[g1][g2] = np.mean((np.dot(g1_embedding, g2_embedding.T)/denominator)[:])"
   ]
  },
  {
   "cell_type": "code",
   "execution_count": null,
   "metadata": {
    "ExecuteTime": {
     "end_time": "2021-02-06T03:10:25.438350Z",
     "start_time": "2021-02-06T03:10:25.409387Z"
    }
   },
   "outputs": [],
   "source": [
    "print(similarity_matrix)"
   ]
  },
  {
   "cell_type": "code",
   "execution_count": null,
   "metadata": {
    "ExecuteTime": {
     "end_time": "2021-02-06T03:11:44.595388Z",
     "start_time": "2021-02-06T03:11:44.543486Z"
    }
   },
   "outputs": [],
   "source": [
    "fig = px.imshow(similarity_matrix)\n",
    "fig.show()\n",
    "\n",
    "# fig, ax = plt.subplots()\n",
    "# im = ax.imshow(similarity_matrix)\n",
    "# ax.set_xticks(np.arange(len(genres)))\n",
    "# ax.set_yticks(np.arange(len(genres)))\n",
    "# ax.set_xticklabels(genres)\n",
    "# ax.set_yticklabels(genres)\n",
    "# plt.setp(ax.get_xticklabels(), rotation=60, ha=\"right\",\n",
    "#          rotation_mode=\"anchor\")\n",
    "# cbar = ax.figure.colorbar(im, ax=ax)\n",
    "# cbar.ax.set_ylabel(\"\", rotation=-90, va=\"bottom\")\n",
    "# plt.show()"
   ]
  }
 ],
 "metadata": {
  "kernelspec": {
   "display_name": "Python 3",
   "language": "python",
   "name": "python3"
  },
  "language_info": {
   "codemirror_mode": {
    "name": "ipython",
    "version": 3
   },
   "file_extension": ".py",
   "mimetype": "text/x-python",
   "name": "python",
   "nbconvert_exporter": "python",
   "pygments_lexer": "ipython3",
   "version": "3.8.5"
  },
  "varInspector": {
   "cols": {
    "lenName": 16,
    "lenType": 16,
    "lenVar": 40
   },
   "kernels_config": {
    "python": {
     "delete_cmd_postfix": "",
     "delete_cmd_prefix": "del ",
     "library": "var_list.py",
     "varRefreshCmd": "print(var_dic_list())"
    },
    "r": {
     "delete_cmd_postfix": ") ",
     "delete_cmd_prefix": "rm(",
     "library": "var_list.r",
     "varRefreshCmd": "cat(var_dic_list()) "
    }
   },
   "types_to_exclude": [
    "module",
    "function",
    "builtin_function_or_method",
    "instance",
    "_Feature"
   ],
   "window_display": false
  }
 },
 "nbformat": 4,
 "nbformat_minor": 5
}
