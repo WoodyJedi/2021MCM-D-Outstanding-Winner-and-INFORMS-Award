{
 "cells": [
  {
   "cell_type": "code",
   "execution_count": 1,
   "metadata": {},
   "outputs": [],
   "source": [
    "import networkx as nx\n",
    "import pandas as pd\n",
    "import numpy as np\n"
   ]
  },
  {
   "cell_type": "code",
   "execution_count": 2,
   "metadata": {},
   "outputs": [],
   "source": [
    "mean_distance = pd.read_csv('mean_distance.csv')"
   ]
  },
  {
   "cell_type": "code",
   "execution_count": 19,
   "metadata": {},
   "outputs": [],
   "source": [
    "closeness = 1/np.array(mean_distance)#np.ndarray()\n",
    "closeness=closeness.flatten()\n",
    "data=pd.DataFrame({'closeness':closeness})#将字典转换成为数据框"
   ]
  },
  {
   "cell_type": "code",
   "execution_count": 21,
   "metadata": {},
   "outputs": [
    {
     "name": "stdout",
     "output_type": "stream",
     "text": [
      "          closeness\n",
      "0          0.013514\n",
      "2          0.000000\n",
      "3          0.000000\n",
      "4          0.000000\n",
      "5          0.000000\n",
      "...             ...\n",
      "31399206   0.000000\n",
      "31399207   0.000000\n",
      "31399208   0.000000\n",
      "31399209   0.000000\n",
      "31399210   0.000000\n",
      "\n",
      "[31393609 rows x 1 columns]\n"
     ]
    }
   ],
   "source": [
    "print(data.dropna())"
   ]
  },
  {
   "cell_type": "code",
   "execution_count": null,
   "metadata": {},
   "outputs": [],
   "source": []
  }
 ],
 "metadata": {
  "kernelspec": {
   "display_name": "Python 3",
   "language": "python",
   "name": "python3"
  },
  "language_info": {
   "codemirror_mode": {
    "name": "ipython",
    "version": 3
   },
   "file_extension": ".py",
   "mimetype": "text/x-python",
   "name": "python",
   "nbconvert_exporter": "python",
   "pygments_lexer": "ipython3",
   "version": "3.8.5"
  }
 },
 "nbformat": 4,
 "nbformat_minor": 4
}
