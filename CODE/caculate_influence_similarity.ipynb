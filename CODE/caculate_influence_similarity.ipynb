{
 "cells": [
  {
   "cell_type": "code",
   "execution_count": 1,
   "metadata": {},
   "outputs": [],
   "source": [
    "import networkx as nx\n",
    "import pandas as pd\n",
    "import numpy as np\n"
   ]
  },
  {
   "cell_type": "code",
   "execution_count": 2,
   "metadata": {},
   "outputs": [],
   "source": [
    "file=['acousticness','danceability','duration_ms','energy','instrumentalness',\n",
    "      'key','liveness','loudness','mode','speechiness','tempo','valence','similarity']\n",
    "corr_result = pd.DataFrame(index=file,columns=['similarity','proportion'])"
   ]
  },
  {
   "cell_type": "code",
   "execution_count": 3,
   "metadata": {},
   "outputs": [],
   "source": [
    "mean_distance = pd.read_csv('mean_distance.csv',index_col=0)\n",
    "acousticness = pd.read_csv('acousticness.csv',index_col=0)\n",
    "musicians = list(set(acousticness.index).intersection(set(mean_distance.index)))\n",
    "musicians_str = [str(x) for x in musicians]"
   ]
  },
  {
   "cell_type": "code",
   "execution_count": 4,
   "metadata": {},
   "outputs": [],
   "source": [
    "mean_distance = pd.read_csv('mean_distance.csv',index_col=0)\n",
    "mean_distance = mean_distance.loc[:,musicians_str].loc[musicians,:]\n",
    "for i in range(len(musicians)):\n",
    "    mean_distance.loc[musicians[i],musicians_str[i]] = np.nan\n",
    "mean_clossness = 1/np.array(mean_distance)\n",
    "mean_clossness = np.where(mean_clossness<0.3,0,mean_clossness)\n",
    "mean_clossness = mean_clossness.flatten()\n",
    "mean_clossness = pd.Series(mean_clossness)#将字典转换成为数据框\n",
    "mean_clossness = mean_clossness.dropna()"
   ]
  },
  {
   "cell_type": "code",
   "execution_count": 7,
   "metadata": {
    "scrolled": true
   },
   "outputs": [
    {
     "name": "stdout",
     "output_type": "stream",
     "text": [
      "acousticness\n",
      "danceability\n",
      "duration_ms\n",
      "energy\n",
      "instrumentalness\n",
      "key\n",
      "liveness\n",
      "loudness\n",
      "mode\n",
      "speechiness\n",
      "tempo\n",
      "valence\n",
      "similarity\n"
     ]
    }
   ],
   "source": [
    "for f in file:\n",
    "    print(f)\n",
    "    data = pd.read_csv(f+'.csv',index_col=0,dtype=float)\n",
    "    data = data.loc[:,musicians_str].loc[musicians,:]\n",
    "    for i in range(len(musicians)):\n",
    "        data.loc[musicians[i],musicians_str[i]] = np.nan\n",
    "    if f == 'similarity':\n",
    "        data = np.array(data)\n",
    "    else:\n",
    "        data = -np.array(data)\n",
    "    data = data.flatten()\n",
    "    data = pd.Series(data)#将字典转换成为数据框\n",
    "    data = data.dropna()\n",
    "    data = pd.DataFrame({f:data, 'mean_clossness':mean_clossness})\n",
    "    corr_result.loc[f,'similarity'] = data.corr().iloc[0,1]\n",
    "\n",
    "corr_result['proportion'] = corr_result['similarity'] / corr_result['similarity'].sum()\n",
    "cor_Pearson = corr_result\n",
    "cor_Pearson.to_csv('cor_Pearson.csv')"
   ]
  },
  {
   "cell_type": "code",
   "execution_count": 8,
   "metadata": {
    "scrolled": true
   },
   "outputs": [
    {
     "name": "stdout",
     "output_type": "stream",
     "text": [
      "                  similarity  proportion\n",
      "acousticness       0.0305397    0.117709\n",
      "danceability       0.0257362   0.0991949\n",
      "duration_ms        0.0120778   0.0465513\n",
      "energy             0.0292582     0.11277\n",
      "instrumentalness   0.0166031   0.0639932\n",
      "key              -0.00163569 -0.00630442\n",
      "liveness           0.0117332   0.0452231\n",
      "loudness           0.0211041   0.0813414\n",
      "mode               0.0132543   0.0510859\n",
      "speechiness        0.0131315   0.0506127\n",
      "tempo              0.0212087   0.0817446\n",
      "valence            0.0249605   0.0962052\n",
      "similarity         0.0414792    0.159873\n"
     ]
    }
   ],
   "source": [
    "print(cor_Pearson)"
   ]
  },
  {
   "cell_type": "code",
   "execution_count": null,
   "metadata": {},
   "outputs": [],
   "source": []
  }
 ],
 "metadata": {
  "kernelspec": {
   "display_name": "Python 3",
   "language": "python",
   "name": "python3"
  },
  "language_info": {
   "codemirror_mode": {
    "name": "ipython",
    "version": 3
   },
   "file_extension": ".py",
   "mimetype": "text/x-python",
   "name": "python",
   "nbconvert_exporter": "python",
   "pygments_lexer": "ipython3",
   "version": "3.8.5"
  }
 },
 "nbformat": 4,
 "nbformat_minor": 4
}
