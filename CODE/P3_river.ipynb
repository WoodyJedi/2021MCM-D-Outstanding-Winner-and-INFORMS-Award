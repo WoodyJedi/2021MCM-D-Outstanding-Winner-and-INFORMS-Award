{
 "cells": [
  {
   "cell_type": "code",
   "execution_count": 1,
   "metadata": {
    "ExecuteTime": {
     "end_time": "2021-02-06T09:52:15.709625Z",
     "start_time": "2021-02-06T09:52:15.694665Z"
    }
   },
   "outputs": [],
   "source": [
    "import numpy as np\n",
    "import pandas as pd\n",
    "import networkx as nx\n",
    "from joblib import dump, load\n",
    "\n",
    "from sklearn.preprocessing import MinMaxScaler\n",
    "from sklearn.decomposition import FactorAnalysis\n",
    "\n",
    "from tqdm import tqdm, trange\n",
    "# import plotly.express as px\n",
    "from matplotlib import pyplot as plt\n",
    "from mpl_toolkits.mplot3d import Axes3D\n",
    "\n",
    "plt.rcParams['xtick.direction'] = 'in'\n",
    "plt.rcParams['ytick.direction'] = 'in'"
   ]
  },
  {
   "cell_type": "code",
   "execution_count": 2,
   "metadata": {
    "ExecuteTime": {
     "end_time": "2021-02-06T09:50:33.134033Z",
     "start_time": "2021-02-06T09:50:33.126056Z"
    }
   },
   "outputs": [
    {
     "name": "stdout",
     "output_type": "stream",
     "text": [
      "Solarize_Light2\n",
      "_classic_test_patch\n",
      "bmh\n",
      "classic\n",
      "dark_background\n",
      "fast\n",
      "fivethirtyeight\n",
      "ggplot\n",
      "grayscale\n",
      "seaborn\n",
      "seaborn-bright\n",
      "seaborn-colorblind\n",
      "seaborn-dark\n",
      "seaborn-dark-palette\n",
      "seaborn-darkgrid\n",
      "seaborn-deep\n",
      "seaborn-muted\n",
      "seaborn-notebook\n",
      "seaborn-paper\n",
      "seaborn-pastel\n",
      "seaborn-poster\n",
      "seaborn-talk\n",
      "seaborn-ticks\n",
      "seaborn-white\n",
      "seaborn-whitegrid\n",
      "tableau-colorblind10\n"
     ]
    }
   ],
   "source": [
    "for style in plt.style.available:\n",
    "    print(style)\n",
    "plt.style.use('seaborn-paper')"
   ]
  },
  {
   "cell_type": "code",
   "execution_count": 3,
   "metadata": {
    "ExecuteTime": {
     "end_time": "2021-02-06T11:22:37.917676Z",
     "start_time": "2021-02-06T11:22:35.929023Z"
    }
   },
   "outputs": [
    {
     "ename": "NameError",
     "evalue": "name 'n_genres' is not defined",
     "output_type": "error",
     "traceback": [
      "\u001b[0;31m---------------------------------------------------------------------------\u001b[0m",
      "\u001b[0;31mNameError\u001b[0m                                 Traceback (most recent call last)",
      "\u001b[0;32m<ipython-input-3-b961e874c988>\u001b[0m in \u001b[0;36m<module>\u001b[0;34m\u001b[0m\n\u001b[1;32m      2\u001b[0m \u001b[0mm\u001b[0m \u001b[0;34m=\u001b[0m \u001b[0mnp\u001b[0m\u001b[0;34m.\u001b[0m\u001b[0mshape\u001b[0m\u001b[0;34m(\u001b[0m\u001b[0mraw_influence_data\u001b[0m\u001b[0;34m)\u001b[0m\u001b[0;34m[\u001b[0m\u001b[0;36m0\u001b[0m\u001b[0;34m]\u001b[0m\u001b[0;34m\u001b[0m\u001b[0;34m\u001b[0m\u001b[0m\n\u001b[1;32m      3\u001b[0m \u001b[0mmusician_dict\u001b[0m \u001b[0;34m=\u001b[0m \u001b[0mdict\u001b[0m\u001b[0;34m(\u001b[0m\u001b[0;34m)\u001b[0m\u001b[0;34m\u001b[0m\u001b[0;34m\u001b[0m\u001b[0m\n\u001b[0;32m----> 4\u001b[0;31m \u001b[0mgenre_scale_evolve\u001b[0m \u001b[0;34m=\u001b[0m \u001b[0mpd\u001b[0m\u001b[0;34m.\u001b[0m\u001b[0mDataFrame\u001b[0m\u001b[0;34m(\u001b[0m\u001b[0mnp\u001b[0m\u001b[0;34m.\u001b[0m\u001b[0mzeros\u001b[0m\u001b[0;34m(\u001b[0m\u001b[0;34m(\u001b[0m\u001b[0mn_genres\u001b[0m\u001b[0;34m,\u001b[0m \u001b[0;36m9\u001b[0m\u001b[0;34m)\u001b[0m\u001b[0;34m)\u001b[0m\u001b[0;34m,\u001b[0m \u001b[0mindex\u001b[0m \u001b[0;34m=\u001b[0m \u001b[0mgenres\u001b[0m\u001b[0;34m,\u001b[0m \u001b[0mcolumns\u001b[0m \u001b[0;34m=\u001b[0m \u001b[0mlist\u001b[0m\u001b[0;34m(\u001b[0m\u001b[0mrange\u001b[0m\u001b[0;34m(\u001b[0m\u001b[0;36m1920\u001b[0m\u001b[0;34m,\u001b[0m \u001b[0;36m2010\u001b[0m\u001b[0;34m,\u001b[0m \u001b[0;36m10\u001b[0m\u001b[0;34m)\u001b[0m\u001b[0;34m)\u001b[0m\u001b[0;34m)\u001b[0m\u001b[0;34m\u001b[0m\u001b[0;34m\u001b[0m\u001b[0m\n\u001b[0m\u001b[1;32m      5\u001b[0m \u001b[0;34m\u001b[0m\u001b[0m\n\u001b[1;32m      6\u001b[0m \u001b[0;32mfor\u001b[0m \u001b[0mi\u001b[0m \u001b[0;32min\u001b[0m \u001b[0mrange\u001b[0m\u001b[0;34m(\u001b[0m\u001b[0mm\u001b[0m\u001b[0;34m)\u001b[0m\u001b[0;34m:\u001b[0m\u001b[0;34m\u001b[0m\u001b[0;34m\u001b[0m\u001b[0m\n",
      "\u001b[0;31mNameError\u001b[0m: name 'n_genres' is not defined"
     ]
    }
   ],
   "source": [
    "raw_influence_data = pd.read_csv(\"influence_data.csv\")\n",
    "m = np.shape(raw_influence_data)[0]\n",
    "musician_dict = dict()\n",
    "genre_scale_evolve = pd.DataFrame(np.zeros((n_genres, 9)), index = genres, columns = list(range(1920, 2010, 10)))\n",
    "\n",
    "for i in range(m):\n",
    "    g1 = raw_influence_data[\"influencer_main_genre\"][i]\n",
    "    y1 = (raw_influence_data[\"influencer_active_start\"][i] // 10) * 10\n",
    "    g2 = raw_influence_data[\"follower_main_genre\"][i]\n",
    "    y2 = (raw_influence_data[\"follower_active_start\"][i] // 10) * 10\n",
    "    if musician_dict.get(raw_influence_data[\"influencer_id\"][i], -1) == -1:\n",
    "        musician_dict[raw_influence_data[\"influencer_id\"][i]] = g1\n",
    "        if y1 < 2010:\n",
    "            genre_scale_evolve.loc[g1][y1] += 1\n",
    "    if musician_dict.get(raw_influence_data[\"follower_id\"][i], -1) == -1:\n",
    "        musician_dict[raw_influence_data[\"follower_id\"][i]] = g2\n",
    "        if y2 < 2010:\n",
    "            genre_scale_evolve.loc[g2][y2] += 1"
   ]
  },
  {
   "cell_type": "code",
   "execution_count": 4,
   "metadata": {
    "ExecuteTime": {
     "end_time": "2021-02-06T08:22:18.798970Z",
     "start_time": "2021-02-06T08:22:18.392874Z"
    }
   },
   "outputs": [],
   "source": [
    "info_columns = [\"danceability\", \"energy\", \"valence\", \"tempo\", \"loudness\", \"mode\", \"key\", \"acousticness\",\n",
    "                \"instrumentalness\", \"liveness\", \"speechiness\", \"duration_ms\"]\n",
    "\n",
    "raw_full_data = pd.read_csv(\"full_music_data.csv\")\n",
    "release_dates = []\n",
    "for date in raw_full_data[\"release_date\"].values:\n",
    "    year = date.rstrip(' ')[-2:]\n",
    "    y = int(year)\n",
    "    if y < 20:\n",
    "        y = 2000+(y//10)*10\n",
    "    else:\n",
    "        y = 1900+(y//10)*10\n",
    "    release_dates.append(y)\n",
    "raw_full_data[\"release_date\"] = release_dates\n",
    "\n",
    "artists_id = raw_full_data[\"artists_id\"].values\n",
    "genre_list = []\n",
    "n = np.shape(artists_id)[0]\n",
    "for i in range(n):\n",
    "    temp, flag = artists_id[i][1:-1].split(','), False\n",
    "    for x in temp:\n",
    "        if musician_dict.get(int(x.lstrip(' ')), -1) != -1:\n",
    "            genre_list.append(musician_dict[int(x.lstrip(' '))])\n",
    "            flag = True\n",
    "            break\n",
    "    if not flag:\n",
    "        genre_list.append(\"Unknown\")\n",
    "\n",
    "genres = pd.unique(genre_list)\n",
    "n_genres = len(genres)"
   ]
  },
  {
   "cell_type": "code",
   "execution_count": 5,
   "metadata": {
    "ExecuteTime": {
     "end_time": "2021-02-06T14:41:11.625190Z",
     "start_time": "2021-02-06T14:41:11.558371Z"
    }
   },
   "outputs": [],
   "source": [
    "raw_data_artist = pd.read_csv(\"data_by_artist.csv\")\n",
    "\n",
    "scaler = MinMaxScaler()\n",
    "X = scaler.fit_transform(raw_data_artist[info_columns].values)\n",
    "\n",
    "dimension_reducer = load(\"P2_FA.joblib\")\n",
    "Z = dimension_reducer.transform(X)"
   ]
  },
  {
   "cell_type": "markdown",
   "metadata": {},
   "source": [
    "I tried both raw data $X$ and transformed data $XC^T$ whose coefficients $C^T$ are provided by Factor Analysis in Problem 2.  \n",
    "The result shows that with linear transform by FA, the divergences between genres are larger and within a genre are smaller."
   ]
  },
  {
   "cell_type": "code",
   "execution_count": 6,
   "metadata": {
    "ExecuteTime": {
     "end_time": "2021-02-06T06:32:59.429513Z",
     "start_time": "2021-02-06T06:32:59.307495Z"
    }
   },
   "outputs": [],
   "source": [
    "musician_embedding = dict()\n",
    "genre_dict = {g: [] for g in genres}\n",
    "\n",
    "for i in range(np.shape(raw_data_artist)[0]):\n",
    "    if musician_dict.get(raw_data_artist[\"artist_id\"][i], -1) != -1:\n",
    "        musician_embedding[raw_data_artist[\"artist_id\"][i]] = Z[i, :]\n",
    "        genre_dict[musician_dict[raw_data_artist[\"artist_id\"][i]]].append(raw_data_artist[\"artist_id\"][i])"
   ]
  },
  {
   "cell_type": "code",
   "execution_count": 7,
   "metadata": {
    "ExecuteTime": {
     "start_time": "2021-02-06T15:09:33.512Z"
    }
   },
   "outputs": [
    {
     "name": "stderr",
     "output_type": "stream",
     "text": [
      "100%|██████████| 5854/5854 [04:33<00:00, 21.40it/s]\n"
     ]
    }
   ],
   "source": [
    "n_musicians = np.shape(raw_data_artist)[0]\n",
    "\n",
    "diff = np.zeros((n_musicians, n_musicians))\n",
    "\n",
    "temp = raw_data_artist[info_columns].values\n",
    "xx = MinMaxScaler().fit_transform(temp)\n",
    "zz = dimension_reducer.transform(xx)\n",
    "for j in trange(n_musicians):\n",
    "    for k in range(n_musicians):\n",
    "        diff[j][k] = np.exp(-np.linalg.norm(zz[j] - zz[k], 2)**2 / 8)\n",
    "df = pd.DataFrame(diff, index = raw_data_artist[\"artist_id\"].values, columns = raw_data_artist[\"artist_id\"].values)\n",
    "df.to_csv(\"similarity.csv\")"
   ]
  },
  {
   "cell_type": "code",
   "execution_count": 11,
   "metadata": {
    "ExecuteTime": {
     "end_time": "2021-02-06T06:41:50.621234Z",
     "start_time": "2021-02-06T06:41:50.359897Z"
    }
   },
   "outputs": [
    {
     "name": "stderr",
     "output_type": "stream",
     "text": [
      "<>:9: SyntaxWarning: \"is not\" with a literal. Did you mean \"!=\"?\n",
      "<>:9: SyntaxWarning: \"is not\" with a literal. Did you mean \"!=\"?\n",
      "<ipython-input-11-1a20166293dc>:9: SyntaxWarning: \"is not\" with a literal. Did you mean \"!=\"?\n",
      "  if genre == g and musician_embedding.get(artist, -1) is not -1:\n"
     ]
    },
    {
     "ename": "IndexError",
     "evalue": "too many indices for array: array is 1-dimensional, but 2 were indexed",
     "output_type": "error",
     "traceback": [
      "\u001b[0;31m---------------------------------------------------------------------------\u001b[0m",
      "\u001b[0;31mIndexError\u001b[0m                                Traceback (most recent call last)",
      "\u001b[0;32m<ipython-input-11-1a20166293dc>\u001b[0m in \u001b[0;36m<module>\u001b[0;34m\u001b[0m\n\u001b[1;32m     11\u001b[0m     \u001b[0mtemp\u001b[0m \u001b[0;34m=\u001b[0m \u001b[0mnp\u001b[0m\u001b[0;34m.\u001b[0m\u001b[0marray\u001b[0m\u001b[0;34m(\u001b[0m\u001b[0membeddings\u001b[0m\u001b[0;34m)\u001b[0m\u001b[0;34m\u001b[0m\u001b[0;34m\u001b[0m\u001b[0m\n\u001b[1;32m     12\u001b[0m     \u001b[0;32mif\u001b[0m \u001b[0mdimension_reducer\u001b[0m\u001b[0;34m.\u001b[0m\u001b[0mn_components\u001b[0m \u001b[0;34m==\u001b[0m \u001b[0;36m3\u001b[0m\u001b[0;34m:\u001b[0m\u001b[0;34m\u001b[0m\u001b[0;34m\u001b[0m\u001b[0m\n\u001b[0;32m---> 13\u001b[0;31m         \u001b[0max\u001b[0m\u001b[0;34m.\u001b[0m\u001b[0mscatter3D\u001b[0m\u001b[0;34m(\u001b[0m\u001b[0mtemp\u001b[0m\u001b[0;34m[\u001b[0m\u001b[0;34m:\u001b[0m\u001b[0;34m,\u001b[0m \u001b[0;36m0\u001b[0m\u001b[0;34m]\u001b[0m\u001b[0;34m,\u001b[0m \u001b[0mtemp\u001b[0m\u001b[0;34m[\u001b[0m\u001b[0;34m:\u001b[0m\u001b[0;34m,\u001b[0m \u001b[0;36m1\u001b[0m\u001b[0;34m]\u001b[0m\u001b[0;34m,\u001b[0m \u001b[0mtemp\u001b[0m\u001b[0;34m[\u001b[0m\u001b[0;34m:\u001b[0m\u001b[0;34m,\u001b[0m \u001b[0;36m2\u001b[0m\u001b[0;34m]\u001b[0m\u001b[0;34m)\u001b[0m\u001b[0;34m\u001b[0m\u001b[0;34m\u001b[0m\u001b[0m\n\u001b[0m\u001b[1;32m     14\u001b[0m     \u001b[0;32melse\u001b[0m\u001b[0;34m:\u001b[0m\u001b[0;34m\u001b[0m\u001b[0;34m\u001b[0m\u001b[0m\n\u001b[1;32m     15\u001b[0m         \u001b[0mx\u001b[0m\u001b[0;34m,\u001b[0m \u001b[0my\u001b[0m \u001b[0;34m=\u001b[0m \u001b[0mmusician_embedding\u001b[0m\u001b[0;34m[\u001b[0m\u001b[0martist\u001b[0m\u001b[0;34m]\u001b[0m\u001b[0;34m\u001b[0m\u001b[0;34m\u001b[0m\u001b[0m\n",
      "\u001b[0;31mIndexError\u001b[0m: too many indices for array: array is 1-dimensional, but 2 were indexed"
     ]
    },
    {
     "data": {
      "image/png": "[encoded data removed]",
      "text/plain": [
       "<Figure size 460.8x316.8 with 1 Axes>"
      ]
     },
     "metadata": {
      "needs_background": "light"
     },
     "output_type": "display_data"
    }
   ],
   "source": [
    "if dimension_reducer.n_components == 3:\n",
    "    fig = plt.figure()\n",
    "    ax = Axes3D(fig)\n",
    "else:\n",
    "    plt.figure()\n",
    "for g in genres:\n",
    "    embeddings = []\n",
    "    for artist, genre in musician_dict.items():\n",
    "        if genre == g and musician_embedding.get(artist, -1) is not -1:\n",
    "            embeddings.append(musician_embedding[artist])\n",
    "    temp = np.array(embeddings)\n",
    "    if dimension_reducer.n_components == 3:\n",
    "        ax.scatter3D(temp[:, 0], temp[:, 1], temp[:, 2])\n",
    "    else:\n",
    "        x, y = musician_embedding[artist]\n",
    "        plt.scatter(temp[:, 0], temp[:, 1])\n",
    "# plt.legends = genres\n",
    "plt.show()"
   ]
  },
  {
   "cell_type": "code",
   "execution_count": null,
   "metadata": {
    "ExecuteTime": {
     "end_time": "2021-02-06T05:42:40.523727Z",
     "start_time": "2021-02-06T05:42:37.931326Z"
    }
   },
   "outputs": [],
   "source": [
    "# for g1 in tqdm(genres):\n",
    "similarity_matrix = pd.DataFrame(columns = genres, index = genres, dtype = float)\n",
    "for g1 in genres:\n",
    "    for g2 in genres:\n",
    "        g1_artists, g2_artists = genre_dict[g1], genre_dict[g2]\n",
    "        g1_embedding, g2_embedding = [], []\n",
    "        for artist in g1_artists:\n",
    "            g1_embedding.append(musician_embedding[artist])\n",
    "        for artist in g2_artists:\n",
    "            g2_embedding.append(musician_embedding[artist])\n",
    "        g1_embedding, g2_embedding = np.array(g1_embedding), np.array(g2_embedding)\n",
    "#       Gaussian similarity\n",
    "        sim = np.zeros((len(g1_embedding), len(g2_embedding)))\n",
    "        for i in range(len(g1_embedding)):\n",
    "            sim[i, :] = np.exp(-np.linalg.norm(g1_embedding[i]-g2_embedding, 2, axis = 1)**2 / 0.18)\n",
    "        similarity_matrix[g1][g2] = np.mean(sim[:])\n",
    "\n",
    "#       Cosine similarity\n",
    "#         g1_norm = np.linalg.norm(g1_embedding, 2, axis = 1, keepdims = True)\n",
    "#         g2_norm = np.linalg.norm(g2_embedding, 2, axis = 1, keepdims = True)\n",
    "#         denominator = np.dot(g1_norm, g2_norm.T)\n",
    "#         similarity_matrix[g1][g2] = np.mean((np.dot(g1_embedding, g2_embedding.T)/denominator)[:])"
   ]
  },
  {
   "cell_type": "code",
   "execution_count": null,
   "metadata": {
    "ExecuteTime": {
     "end_time": "2021-02-06T05:42:45.174323Z",
     "start_time": "2021-02-06T05:42:45.123155Z"
    }
   },
   "outputs": [],
   "source": [
    "fig = px.imshow(similarity_matrix)\n",
    "fig.show()\n",
    "\n",
    "# fig, ax = plt.subplots()\n",
    "# im = ax.imshow(similarity_matrix)\n",
    "# ax.set_xticks(np.arange(len(genres)))\n",
    "# ax.set_yticks(np.arange(len(genres)))\n",
    "# ax.set_xticklabels(genres)\n",
    "# ax.set_yticklabels(genres)\n",
    "# plt.setp(ax.get_xticklabels(), rotation=60, ha=\"right\",\n",
    "#          rotation_mode=\"anchor\")\n",
    "# cbar = ax.figure.colorbar(im, ax=ax)\n",
    "# cbar.ax.set_ylabel(\"\", rotation=-90, va=\"bottom\")\n",
    "# plt.show()"
   ]
  },
  {
   "cell_type": "code",
   "execution_count": null,
   "metadata": {
    "ExecuteTime": {
     "end_time": "2021-02-06T12:31:51.806537Z",
     "start_time": "2021-02-06T12:31:51.759413Z"
    }
   },
   "outputs": [],
   "source": [
    "nodes_data = pd.read_csv(\"size.csv\", header = None)\n",
    "edges_data = pd.read_csv(\"edge.csv\", index_col = 0)\n",
    "\n",
    "m = np.shape(nodes_data)[0]\n",
    "nodes = pd.DataFrame(index = list(range(m)), columns = [\"id\", \"value\", \"category\", \"label\"])\n",
    "\n",
    "for i in range(m):\n",
    "    nodes.iloc[i][\"id\"] = nodes_data.iloc[i][0]\n",
    "    nodes.iloc[i][\"category\"] = nodes_data.iloc[i][0]\n",
    "    nodes.iloc[i][\"value\"] = nodes_data.iloc[i][1]\n",
    "    nodes.iloc[i][\"label\"] = nodes_data.iloc[i][0]\n",
    "\n",
    "nodes.to_csv(\"nodes.csv\", index = False)"
   ]
  },
  {
   "cell_type": "code",
   "execution_count": null,
   "metadata": {
    "ExecuteTime": {
     "end_time": "2021-02-06T13:08:25.293365Z",
     "start_time": "2021-02-06T13:08:25.181656Z"
    }
   },
   "outputs": [],
   "source": [
    "total_edges, cnt = np.sum((edges_data.values != 0)[:]), 0\n",
    "edges = pd.DataFrame(index = list(range(total_edges)), columns = [\"source\", \"target\", \"weight\"])\n",
    "\n",
    "for g1 in genres:\n",
    "    for g2 in genres:\n",
    "        if edges_data.loc[g1][g2] != 0:\n",
    "            edges.iloc[cnt][\"source\"] = g1\n",
    "            edges.iloc[cnt][\"target\"] = g2\n",
    "            edges.iloc[cnt][\"weight\"] = edges_data.loc[g1][g2]\n",
    "            cnt += 1\n",
    "\n",
    "edges.to_csv(\"edges.csv\", index = False)"
   ]
  },
  {
   "cell_type": "code",
   "execution_count": null,
   "metadata": {
    "ExecuteTime": {
     "end_time": "2021-02-06T13:44:31.537956Z",
     "start_time": "2021-02-06T13:44:31.483070Z"
    }
   },
   "outputs": [],
   "source": [
    "data = \"[\"\n",
    "node2idx = dict()\n",
    "for i in range(m):\n",
    "    data += \"{\\n\"\n",
    "    data += \"name: \\'\" + nodes.iloc[i][\"id\"] + \"\\'\\n}, \"\n",
    "    node2idx[nodes.iloc[i][\"id\"]] = str(i)\n",
    "# print(data[:-2] + ']')\n",
    "# print(node2idx)\n",
    "\"\"\"\n",
    "    source: 0,\n",
    "    target: 1,\n",
    "    symbolSize: [5, 20],\n",
    "    label: {\n",
    "        show: true\n",
    "    },\n",
    "    lineStyle: {\n",
    "        width: 5,\n",
    "        curveness: 0.2\n",
    "    }\n",
    "\"\"\"\n",
    "# max_weight = edges.values[:, 2].astype(float).max()\n",
    "links = \"[\"\n",
    "for i in range(total_edges):\n",
    "    links += \"{\\n\"\n",
    "    links += \"source: \\'\" + edges.iloc[i][\"source\"].replace('\\'', '\\\\\\'') + \"\\',\\n\"\n",
    "    links += \"target: \\'\" + edges.iloc[i][\"target\"].replace('\\'', '\\\\\\'') + \"\\',\\n\"\n",
    "    links += \"lineStyle: {\\n\\twidth: \" + str(int(np.log(edges.values[i][2])* 2.5)) + \",\\n\\tcurveness: 0.2\\n}\\n}, \"\n",
    "    \n",
    "print(links[:-2] + ']')"
   ]
  },
  {
   "cell_type": "code",
   "execution_count": null,
   "metadata": {
    "ExecuteTime": {
     "end_time": "2021-02-06T13:44:13.055526Z",
     "start_time": "2021-02-06T13:44:13.051580Z"
    }
   },
   "outputs": [],
   "source": [
    "print('\\\\\\'')"
   ]
  },
  {
   "cell_type": "code",
   "execution_count": null,
   "metadata": {
    "ExecuteTime": {
     "end_time": "2021-02-06T07:48:20.711576Z",
     "start_time": "2021-02-06T07:48:20.686643Z"
    }
   },
   "outputs": [],
   "source": [
    "genre_embedding = pd.DataFrame(np.zeros((n_genres, 3)), index = genres, columns = ['Component_'+str(i) for i in [0, 1, 2]])\n",
    "for g in genres:\n",
    "    embedding = []\n",
    "    for x in genre_dict[g]:\n",
    "        embedding.append(musician_embedding[x])\n",
    "    genre_embedding.loc[g] = np.mean(embedding, axis = 0)"
   ]
  },
  {
   "cell_type": "code",
   "execution_count": null,
   "metadata": {
    "ExecuteTime": {
     "end_time": "2021-02-06T11:22:42.076698Z",
     "start_time": "2021-02-06T11:22:41.592938Z"
    }
   },
   "outputs": [],
   "source": [
    "x_axis = range(1920, 2010, 10)\n",
    "\n",
    "for j in [0, 1, 2, 3]:\n",
    "    plt.figure(j)\n",
    "    for g in genres[5*j : 5*j+5]:\n",
    "        if g == \"Unknown\":\n",
    "            continue\n",
    "        y_axis = genre_scale_evolve.loc[g]\n",
    "        plt.plot(x_axis, y_axis, '--o', linewidth = 2.5, markersize = 6, label = g)\n",
    "    plt.xlabel(\"Decade\", fontsize = 18)\n",
    "    plt.ylabel(\"Number of Works\", fontsize = 18)\n",
    "    plt.grid(True, linestyle = '--')\n",
    "    plt.tick_params(labelsize = 18)\n",
    "    plt.legend(loc = 2, bbox_to_anchor = (1.05, 1.0), borderaxespad = 0, fontsize = 18)\n",
    "plt.show()"
   ]
  },
  {
   "cell_type": "code",
   "execution_count": null,
   "metadata": {
    "ExecuteTime": {
     "end_time": "2021-02-06T09:29:07.923622Z",
     "start_time": "2021-02-06T09:29:07.853428Z"
    }
   },
   "outputs": [],
   "source": [
    "temp = raw_full_data[\"release_date\"].values\n",
    "temp = temp.reshape((temp.shape[0], 1))\n",
    "X_ = MinMaxScaler().fit_transform(raw_full_data[info_columns].values)\n",
    "Z_ = dimension_reducer.transform(X_)\n",
    "new_data = np.hstack((temp, np.reshape(genre_list, (len(genre_list), 1)).astype(object), Z_))\n",
    "\n",
    "new_data = pd.DataFrame(new_data, index = raw_full_data.index, \\\n",
    "                        columns = [\"release_date\", \"genre\"] + [\"Components_\"+str(i) for i in [0, 1, 2]], dtype = object)"
   ]
  },
  {
   "cell_type": "code",
   "execution_count": null,
   "metadata": {
    "ExecuteTime": {
     "end_time": "2021-02-06T11:14:53.126906Z",
     "start_time": "2021-02-06T11:14:52.874553Z"
    }
   },
   "outputs": [],
   "source": [
    "genre_work_evolve = pd.DataFrame(np.zeros((n_genres, 9)), index = genres, columns = list(range(1920, 2010, 10)))\n",
    "\n",
    "for decade, table in new_data.groupby(\"release_date\"):\n",
    "    for g in genres:\n",
    "        genre_work_evolve.loc[g][decade] = np.shape(table[table[\"genre\"] == g])[0]\n",
    "\n",
    "genre_work_evolve"
   ]
  },
  {
   "cell_type": "code",
   "execution_count": null,
   "metadata": {
    "ExecuteTime": {
     "end_time": "2021-02-06T11:14:55.445074Z",
     "start_time": "2021-02-06T11:14:54.877592Z"
    }
   },
   "outputs": [],
   "source": [
    "x_axis = range(1920, 2010, 10)\n",
    "\n",
    "for j in [0, 1, 2, 3]:\n",
    "    plt.figure(j)\n",
    "    for g in genres[5*j : 5*j+5]:\n",
    "        if g == \"Unknown\":\n",
    "            continue\n",
    "        y_axis = genre_work_evolve.loc[g]\n",
    "        plt.plot(x_axis, y_axis, '--o', linewidth = 2.5, markersize = 6, label = g)\n",
    "    plt.xlabel(\"Decade\", fontsize = 18)\n",
    "    plt.ylabel(\"Number of Works\", fontsize = 18)\n",
    "    plt.grid(True, linestyle = '--')\n",
    "    plt.tick_params(labelsize = 18)\n",
    "    plt.legend(loc = 2, bbox_to_anchor = (1.05, 1.0), borderaxespad = 0, fontsize = 18)\n",
    "plt.show()"
   ]
  },
  {
   "cell_type": "code",
   "execution_count": null,
   "metadata": {
    "ExecuteTime": {
     "end_time": "2021-02-06T11:03:42.413427Z",
     "start_time": "2021-02-06T11:03:42.027462Z"
    }
   },
   "outputs": [],
   "source": [
    "genre_feature_evolve = pd.DataFrame(index = genres, columns = [\"Component_\"+str(i) for i in [0, 1, 2]], dtype = object)\n",
    "for i in genre_feature_evolve.index:\n",
    "    for j in genre_feature_evolve.columns:\n",
    "        genre_feature_evolve.loc[i][j] = []\n",
    "\n",
    "for decade, table in new_data.groupby(\"release_date\"):\n",
    "    for g in genres:\n",
    "        temp = table[table[\"genre\"] == g][[\"Components_\"+str(i) for i in [0, 1, 2]]]\n",
    "        # print(np.mean(temp.values.astype(float), axis = 0))\n",
    "        if np.shape(temp)[0] != 0:\n",
    "            embedding = np.mean(temp.values.astype(float), axis = 0)\n",
    "            for i in range(3):\n",
    "                genre_feature_evolve.loc[g][\"Component_\"+str(i)].append(embedding[i])\n",
    "        else:\n",
    "            for i in range(3):\n",
    "                genre_feature_evolve.loc[g][\"Component_\"+str(i)].append(np.nan)"
   ]
  },
  {
   "cell_type": "code",
   "execution_count": null,
   "metadata": {
    "ExecuteTime": {
     "end_time": "2021-02-06T11:03:47.358501Z",
     "start_time": "2021-02-06T11:03:47.342478Z"
    }
   },
   "outputs": [],
   "source": [
    "for i in genre_feature_evolve.columns:\n",
    "    for j in genre_feature_evolve.index:\n",
    "        l = len(genre_feature_evolve[i][j])\n",
    "        for k in range(l):\n",
    "            if k > 0 and k < l and genre_feature_evolve[i][j][k] is np.nan:\n",
    "                genre_feature_evolve[i][j][k] = (genre_feature_evolve[i][j][k-1] + genre_feature_evolve[i][j][k+1]) / 2"
   ]
  },
  {
   "cell_type": "code",
   "execution_count": null,
   "metadata": {
    "ExecuteTime": {
     "end_time": "2021-02-06T11:08:57.625588Z",
     "start_time": "2021-02-06T11:08:56.133566Z"
    },
    "scrolled": true
   },
   "outputs": [],
   "source": [
    "x_axis = list(range(1920, 2011, 10))\n",
    "\n",
    "for i in [0, 1, 2]:\n",
    "    for j in [0, 1, 2, 3]:\n",
    "        plt.figure(4*i+j)\n",
    "        for g in genres[5*j : 5*j+5]:\n",
    "            if g == \"Unknown\":\n",
    "                continue\n",
    "            y_axis = genre_feature_evolve.loc[g][\"Component_\"+str(i)]\n",
    "            plt.plot(x_axis, y_axis, '--o', linewidth = 2.5, markersize = 6, label = g)\n",
    "        plt.xlabel(\"Decade\", fontsize = 18)\n",
    "        plt.ylabel(\"Component \"+str(i), fontsize = 18)\n",
    "        plt.grid(True, linestyle = '--')\n",
    "        plt.tick_params(labelsize = 18)\n",
    "        plt.legend(loc = 2, bbox_to_anchor = (1.05, 1.0), borderaxespad = 0, fontsize = 16)\n",
    "plt.show()"
   ]
  },
  {
   "cell_type": "code",
   "execution_count": null,
   "metadata": {},
   "outputs": [],
   "source": []
  },
  {
   "cell_type": "code",
   "execution_count": null,
   "metadata": {},
   "outputs": [],
   "source": []
  },
  {
   "cell_type": "code",
   "execution_count": null,
   "metadata": {},
   "outputs": [],
   "source": []
  },
  {
   "cell_type": "code",
   "execution_count": null,
   "metadata": {},
   "outputs": [],
   "source": []
  },
  {
   "cell_type": "code",
   "execution_count": null,
   "metadata": {},
   "outputs": [],
   "source": []
  },
  {
   "cell_type": "code",
   "execution_count": null,
   "metadata": {},
   "outputs": [],
   "source": []
  }
 ],
 "metadata": {
  "kernelspec": {
   "display_name": "Python 3",
   "language": "python",
   "name": "python3"
  },
  "language_info": {
   "codemirror_mode": {
    "name": "ipython",
    "version": 3
   },
   "file_extension": ".py",
   "mimetype": "text/x-python",
   "name": "python",
   "nbconvert_exporter": "python",
   "pygments_lexer": "ipython3",
   "version": "3.8.5"
  },
  "varInspector": {
   "cols": {
    "lenName": 16,
    "lenType": 16,
    "lenVar": 40
   },
   "kernels_config": {
    "python": {
     "delete_cmd_postfix": "",
     "delete_cmd_prefix": "del ",
     "library": "var_list.py",
     "varRefreshCmd": "print(var_dic_list())"
    },
    "r": {
     "delete_cmd_postfix": ") ",
     "delete_cmd_prefix": "rm(",
     "library": "var_list.r",
     "varRefreshCmd": "cat(var_dic_list()) "
    }
   },
   "types_to_exclude": [
    "module",
    "function",
    "builtin_function_or_method",
    "instance",
    "_Feature"
   ],
   "window_display": false
  }
 },
 "nbformat": 4,
 "nbformat_minor": 5
}
